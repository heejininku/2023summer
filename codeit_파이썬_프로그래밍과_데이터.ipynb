{
  "nbformat": 4,
  "nbformat_minor": 0,
  "metadata": {
    "colab": {
      "provenance": [],
      "authorship_tag": "ABX9TyP15hbiChuKyRo0VZVqrB0J",
      "include_colab_link": true
    },
    "kernelspec": {
      "name": "python3",
      "display_name": "Python 3"
    },
    "language_info": {
      "name": "python"
    }
  },
  "cells": [
    {
      "cell_type": "markdown",
      "metadata": {
        "id": "view-in-github",
        "colab_type": "text"
      },
      "source": [
        "<a href=\"https://colab.research.google.com/github/heejininku/2023summer/blob/main/codeit_%ED%8C%8C%EC%9D%B4%EC%8D%AC_%ED%94%84%EB%A1%9C%EA%B7%B8%EB%9E%98%EB%B0%8D%EA%B3%BC_%EB%8D%B0%EC%9D%B4%ED%84%B0.ipynb\" target=\"_parent\"><img src=\"https://colab.research.google.com/assets/colab-badge.svg\" alt=\"Open In Colab\"/></a>"
      ]
    },
    {
      "cell_type": "markdown",
      "source": [
        "**list (리스트)**"
      ],
      "metadata": {
        "id": "-znrO_hotevN"
      }
    },
    {
      "cell_type": "code",
      "execution_count": null,
      "metadata": {
        "colab": {
          "base_uri": "https://localhost:8080/"
        },
        "id": "c62JrnCfsen0",
        "outputId": "a5210597-56ab-4bd7-fcfc-476d831fb881"
      },
      "outputs": [
        {
          "output_type": "stream",
          "name": "stdout",
          "text": [
            "윤수\n",
            "10\n"
          ]
        }
      ],
      "source": [
        "# 리스트 (list)\n",
        "numbers = [2,3,5,7,11,13]\n",
        "names = [\"윤수\",\"혜린\", \"태호\", \"영훈\"]\n",
        "\n",
        "# 인덱싱 (indexing)\n",
        "print (names[0])\n",
        "print (numbers[1]+numbers[3]) # 파이썬은 0부터 시작한다는 점 주의!"
      ]
    },
    {
      "cell_type": "code",
      "source": [
        "num_1 = numbers[1] # 이런식으로 따로 이름을 붙인 다음에 더해주는 것도 가능\n",
        "num_3 = numbers[3]\n",
        "print (num_1 + num_3)\n",
        "\n",
        "print (numbers[-1]) # -1은 가장 뒤의 것을 의미함\n",
        "print (numbers[-2])"
      ],
      "metadata": {
        "colab": {
          "base_uri": "https://localhost:8080/"
        },
        "id": "Xr0aGHFgtNNE",
        "outputId": "70fff0f6-3d25-4c36-e434-35dd0ae31951"
      },
      "execution_count": null,
      "outputs": [
        {
          "output_type": "stream",
          "name": "stdout",
          "text": [
            "10\n",
            "13\n",
            "11\n"
          ]
        }
      ]
    },
    {
      "cell_type": "code",
      "source": [
        "#리스트 슬라이싱\n",
        "print(numbers[0:4]) # 0~3번째 숫자까지 (4번째는 포함하지 않음)\n",
        "print(numbers[:3]) # 0~2번째 숫자까지\n",
        "print(numbers[2:]) #2번(3번째 숫자)부터 끝까지"
      ],
      "metadata": {
        "colab": {
          "base_uri": "https://localhost:8080/"
        },
        "id": "sN-uGT10tPUu",
        "outputId": "2af985d5-38ab-4ef2-a7a1-50c37e9529fd"
      },
      "execution_count": null,
      "outputs": [
        {
          "output_type": "stream",
          "name": "stdout",
          "text": [
            "[2, 3, 5, 7]\n",
            "[2, 3, 5]\n",
            "[5, 7, 11, 13]\n"
          ]
        }
      ]
    },
    {
      "cell_type": "code",
      "source": [
        "new_list = numbers[:3] #[2,3,5]를 의미하는 새로운 list가 만들어짐.\n",
        "print(new_list[2])"
      ],
      "metadata": {
        "colab": {
          "base_uri": "https://localhost:8080/"
        },
        "id": "gwNNuKKzuXfK",
        "outputId": "a4789971-5a1c-454e-9973-0e34196248c8"
      },
      "execution_count": null,
      "outputs": [
        {
          "output_type": "stream",
          "name": "stdout",
          "text": [
            "5\n"
          ]
        }
      ]
    },
    {
      "cell_type": "code",
      "source": [
        "numbers[0] =7\n",
        "# 정수 7를 0번째 index에 할당하는 것\n",
        "print(numbers)"
      ],
      "metadata": {
        "colab": {
          "base_uri": "https://localhost:8080/"
        },
        "id": "qhDDv7LDumyl",
        "outputId": "95be1c09-9dd7-4472-b091-fcfa086470c5"
      },
      "execution_count": null,
      "outputs": [
        {
          "output_type": "stream",
          "name": "stdout",
          "text": [
            "[7, 3, 5, 7, 11, 13]\n"
          ]
        }
      ]
    },
    {
      "cell_type": "code",
      "source": [
        "numbers[1] = numbers[0] + numbers[2] #7과 5를 더해서 1번째 index에 넣기\n",
        "print (numbers)"
      ],
      "metadata": {
        "colab": {
          "base_uri": "https://localhost:8080/"
        },
        "id": "ktF4WOZ7vRpA",
        "outputId": "6fb20971-b5ce-48df-c2c2-9b69da6e65ad"
      },
      "execution_count": null,
      "outputs": [
        {
          "output_type": "stream",
          "name": "stdout",
          "text": [
            "[7, 12, 5, 7, 11, 13]\n"
          ]
        }
      ]
    },
    {
      "cell_type": "markdown",
      "source": [
        "**리스트 함수**"
      ],
      "metadata": {
        "id": "xWwn9yThvpwy"
      }
    },
    {
      "cell_type": "code",
      "source": [
        "numbers = []\n",
        "numbers. append (5) # numbers. append()는 리스트에 새로운 숫자를 넣어주는 것\n",
        "numbers. append (8)\n",
        "print(numbers)"
      ],
      "metadata": {
        "colab": {
          "base_uri": "https://localhost:8080/"
        },
        "id": "olItx92OvtE9",
        "outputId": "c865394f-461f-446c-8773-a0eff7900241"
      },
      "execution_count": null,
      "outputs": [
        {
          "output_type": "stream",
          "name": "stdout",
          "text": [
            "[5, 8]\n"
          ]
        }
      ]
    },
    {
      "cell_type": "code",
      "source": [
        "print(len(numbers)) # len ()은 리스트의 길이를 말하는 것"
      ],
      "metadata": {
        "colab": {
          "base_uri": "https://localhost:8080/"
        },
        "id": "TLSU_1Hwv54O",
        "outputId": "b3bd3b3f-cb04-4cb7-e256-750a747aac0d"
      },
      "execution_count": null,
      "outputs": [
        {
          "output_type": "stream",
          "name": "stdout",
          "text": [
            "2\n"
          ]
        }
      ]
    },
    {
      "cell_type": "code",
      "source": [
        "numbers = [2,3,5,7,11,13,17,19]\n",
        "del numbers [3] #3번 index인 7를 제거함 (원래 있던 것들은 앞으로 한칸씩 올 것)\n",
        "# del(리스트이름)[몇번째 index] 는 해당 index를 지워달라는 의미임.\n",
        "print (numbers)"
      ],
      "metadata": {
        "colab": {
          "base_uri": "https://localhost:8080/"
        },
        "id": "I4DsWmY1wIWP",
        "outputId": "3a9255bc-b59c-4b1a-8505-79859305962c"
      },
      "execution_count": null,
      "outputs": [
        {
          "output_type": "stream",
          "name": "stdout",
          "text": [
            "[2, 3, 5, 11, 13, 17, 19]\n"
          ]
        }
      ]
    },
    {
      "cell_type": "code",
      "source": [
        "numbers = [2,3,5,7,11,13,17,19]\n",
        "numbers. insert (4,37)\n",
        "print(numbers)\n",
        "# 4번째 index에 37를 넣으라는 의미 (원래 있던 것들은 뒤로 밀려날 것)\n",
        "# numbers. insert는 무조건 오른쪽 끝에 추가를 하는 numbers. append 와 달리 특정한 index 순서를 집어서 바꿀 수 있음.\n",
        "\n",
        "# numbers. insert: 삽입 연산\n",
        "# numbers. append: 추가 연산"
      ],
      "metadata": {
        "colab": {
          "base_uri": "https://localhost:8080/"
        },
        "id": "kDUqqk-xwzgN",
        "outputId": "8ea8f363-27a5-4770-eac6-33bdfc07e1dc"
      },
      "execution_count": null,
      "outputs": [
        {
          "output_type": "stream",
          "name": "stdout",
          "text": [
            "[2, 3, 5, 7, 37, 11, 13, 17, 19]\n"
          ]
        }
      ]
    },
    {
      "cell_type": "markdown",
      "source": [
        "**리스트 정렬**"
      ],
      "metadata": {
        "id": "iRxq0wmQxtCd"
      }
    },
    {
      "cell_type": "markdown",
      "source": [
        "방법 1 sorted\n",
        "\n",
        ": 기존 리스트는 건드리지 않고, 정렬된 새로운 리스트를 리턴"
      ],
      "metadata": {
        "id": "lWf8D7m6y6aQ"
      }
    },
    {
      "cell_type": "code",
      "source": [
        "numbers = [19, 13, 2, 5, 3, 11, 7, 17]\n",
        "\n",
        "# 크기가 작은 순서대로 정렬하고 싶다\n",
        "new_list = sorted(numbers)\n",
        "print(new_list)\n",
        "# 크기가 큰 순서대로 정렬하고 싶다면\n",
        "new_list = sorted(numbers, reverse = True) # 반대로 정렬하라.\n",
        "print(new_list)\n",
        "\n",
        "# 다만 이후에 다시 print (numbers)하면, 다시 원래 리스트 등장\n",
        "# sorted는 기존의 리스트를 건드리지 않는 선에서 진행"
      ],
      "metadata": {
        "colab": {
          "base_uri": "https://localhost:8080/"
        },
        "id": "LZMbYx8DxxMF",
        "outputId": "93820255-fd57-4276-f8d4-39e157c5d51a"
      },
      "execution_count": null,
      "outputs": [
        {
          "output_type": "stream",
          "name": "stdout",
          "text": [
            "[2, 3, 5, 7, 11, 13, 17, 19]\n",
            "[19, 17, 13, 11, 7, 5, 3, 2]\n"
          ]
        }
      ]
    },
    {
      "cell_type": "markdown",
      "source": [
        "방법 2 sort\n",
        "\n",
        ": 아무것도 리턴하지 않고, 기존 리스트를 정렬"
      ],
      "metadata": {
        "id": "-qLGtGh9y9bb"
      }
    },
    {
      "cell_type": "code",
      "source": [
        "numbers = [19, 13, 2, 5, 3, 11, 7, 17]\n",
        "\n",
        "print (numbers.sort()) #이번에는 새로운 리스트가 나오지를 않고 None이 나옴\n",
        "#sort는 return하지 않고 정렬만 함\n",
        "\n",
        "numbers.sort()\n",
        "print (numbers) # 이것을 해야 보임\n",
        "\n",
        "#만약 반대로 하고 싶다면\n",
        "numbers. sort (reverse= True)\n",
        "print (numbers)"
      ],
      "metadata": {
        "colab": {
          "base_uri": "https://localhost:8080/"
        },
        "id": "xbgKDzthy4YS",
        "outputId": "27d98c5b-1d6f-4783-fbf3-b1219dcc88b9"
      },
      "execution_count": null,
      "outputs": [
        {
          "output_type": "stream",
          "name": "stdout",
          "text": [
            "None\n",
            "[2, 3, 5, 7, 11, 13, 17, 19]\n",
            "[19, 17, 13, 11, 7, 5, 3, 2]\n"
          ]
        }
      ]
    },
    {
      "cell_type": "code",
      "source": [
        "#예제\n",
        "#greetings 리스트의 원소를 모두 출력하는 프로그램을 작성해 보세요. while문과 리스트의 개념을 활용하시면 됩니다\n",
        "greetings = [\"안녕\", \"니하오\", \"곤니찌와\", \"올라\", \"싸와디캅\", \"헬로\", \"봉주르\"]\n",
        "\n",
        "i = 0\n",
        "while i <= 6:\n",
        "   print (greetings[i])\n",
        "   i += 1"
      ],
      "metadata": {
        "colab": {
          "base_uri": "https://localhost:8080/"
        },
        "id": "1eGQ2T-m0qKj",
        "outputId": "0c69dd05-ce51-4bed-9f1f-1af49bf2c9bd"
      },
      "execution_count": null,
      "outputs": [
        {
          "output_type": "stream",
          "name": "stdout",
          "text": [
            "안녕\n",
            "니하오\n",
            "곤니찌와\n",
            "올라\n",
            "싸와디캅\n",
            "헬로\n",
            "봉주르\n"
          ]
        }
      ]
    },
    {
      "cell_type": "code",
      "source": [
        "# 화씨 온도에서 섭씨 온도로 바꿔 주는 함수\n",
        "def fahrenheit_to_celsius(fahrenheit):\n",
        "    # 여기에 코드를 작성하세요\n",
        "    return ((fahrenheit - 32) *5 / 9)\n",
        "\n",
        "\n",
        "temperature_list = [40, 15, 32, 64, -4, 11]\n",
        "print(\"화씨 온도 리스트: {}\".format(temperature_list))  # 화씨 온도 출력\n",
        "\n",
        "# 리스트의 값들을 화씨에서 섭씨로 변환하는 코드를 입력하세요\n",
        "for i in range(len(temperature_list)):\n",
        "    temperature_list[i] = fahrenheit_to_celsius(temperature_list[i])\n",
        "\n",
        "for temp in temperature_list:\n",
        "print(\"섭씨 온도 리스트: {0:.1f}\".format(temperature_list))  # 섭씨 온도 출력\n"
      ],
      "metadata": {
        "id": "nXfpw_rE6Dj4"
      },
      "execution_count": null,
      "outputs": []
    }
  ]
}