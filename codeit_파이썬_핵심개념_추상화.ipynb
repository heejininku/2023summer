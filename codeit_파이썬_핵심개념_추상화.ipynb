{
  "nbformat": 4,
  "nbformat_minor": 0,
  "metadata": {
    "colab": {
      "provenance": [],
      "authorship_tag": "ABX9TyPH4QdHIiX2AJgwbcWZRV3y",
      "include_colab_link": true
    },
    "kernelspec": {
      "name": "python3",
      "display_name": "Python 3"
    },
    "language_info": {
      "name": "python"
    }
  },
  "cells": [
    {
      "cell_type": "markdown",
      "metadata": {
        "id": "view-in-github",
        "colab_type": "text"
      },
      "source": [
        "<a href=\"https://colab.research.google.com/github/heejininku/2023summer/blob/main/codeit_%ED%8C%8C%EC%9D%B4%EC%8D%AC_%ED%95%B5%EC%8B%AC%EA%B0%9C%EB%85%90_%EC%B6%94%EC%83%81%ED%99%94.ipynb\" target=\"_parent\"><img src=\"https://colab.research.google.com/assets/colab-badge.svg\" alt=\"Open In Colab\"/></a>"
      ]
    },
    {
      "cell_type": "markdown",
      "source": [
        "**return문의 역할**\n",
        "\n",
        ": 값 돌려주기\n",
        "\n",
        ": 함수 즉시 종료하기"
      ],
      "metadata": {
        "id": "pXnErrfUo074"
      }
    },
    {
      "cell_type": "code",
      "source": [
        "def square(x):\n",
        "  print(\"함수 시작\")\n",
        "  return x*x\n",
        "  print (\"함수 끝\") # 함수를 끝내주는 의미가 있기에 dead code (의미없는 코드임)\n",
        "\n",
        "\n",
        "print (square(3))\n",
        "print (\"Hello World!\")"
      ],
      "metadata": {
        "colab": {
          "base_uri": "https://localhost:8080/"
        },
        "id": "GtiIEOYlpfTk",
        "outputId": "e91385a3-d2d9-4681-e667-f69581d07076"
      },
      "execution_count": null,
      "outputs": [
        {
          "output_type": "stream",
          "name": "stdout",
          "text": [
            "함수 시작\n",
            "9\n",
            "Hello World!\n"
          ]
        }
      ]
    },
    {
      "cell_type": "code",
      "source": [
        "def print_square(x):\n",
        "  print (x*x)\n",
        "\n",
        "print_square(3) #여기는 print이기에 9가 나옴"
      ],
      "metadata": {
        "colab": {
          "base_uri": "https://localhost:8080/"
        },
        "id": "WqLKfP7DrQYh",
        "outputId": "7cbbe13e-0ff9-4f27-d724-15f855e0da0e"
      },
      "execution_count": null,
      "outputs": [
        {
          "output_type": "stream",
          "name": "stdout",
          "text": [
            "9\n"
          ]
        }
      ]
    },
    {
      "cell_type": "code",
      "source": [
        "def get_square(x):\n",
        "  return x*x\n",
        "get_square(3) #이렇게 하더라도 출력하라는 print가 없기에 값이 안 나옴\n",
        "print (get_square(3)) #이렇게하면 출력되고 가능함"
      ],
      "metadata": {
        "colab": {
          "base_uri": "https://localhost:8080/"
        },
        "id": "7M8BvTuxrwMt",
        "outputId": "6687445a-6ba6-423a-f718-5300e0c0c8f9"
      },
      "execution_count": null,
      "outputs": [
        {
          "output_type": "stream",
          "name": "stdout",
          "text": [
            "9\n"
          ]
        }
      ]
    },
    {
      "cell_type": "code",
      "source": [
        "def print_square(x):\n",
        "  print (x*x) #return값 없다는 의미로 none이라는게 생김\n",
        "#즉 함수 호출 부분인 print_square(3)이 none으로 나옴\n",
        "#none이 나오는 이유: https://www.codeit.kr/community/questions/UXVlc3Rpb246NWUzNDUyMjU4MGU1MTMzNzNkOTYyODRj\n",
        "\n",
        "\n",
        "print(print_square(3))"
      ],
      "metadata": {
        "colab": {
          "base_uri": "https://localhost:8080/"
        },
        "id": "_bI_BZN8qk5M",
        "outputId": "ee6fe4e7-658e-4af0-cb92-7d6548e7918e"
      },
      "execution_count": null,
      "outputs": [
        {
          "output_type": "stream",
          "name": "stdout",
          "text": [
            "9\n",
            "None\n"
          ]
        }
      ]
    },
    {
      "cell_type": "markdown",
      "source": [
        "**Optional Parameter**\n",
        "\n",
        "파라미터에 '기본값(default value)'을 설정할 수 있는데요. 기본값을 설정해 두면, 함수를 호출할 때 파라미터에 값을 꼭 넘겨주지 않아도 됩니다. 이런 파라미터를 '옵셔널 파라미터(optional parameter)'라고 합니다. 필수로 넘겨줄 필요가 없으니까 '옵셔널'이라고 하는 거죠."
      ],
      "metadata": {
        "id": "Rq11kUXAs8X8"
      }
    },
    {
      "cell_type": "code",
      "source": [
        "def myself(name, age, nationality=\"한국\"):\n",
        "    print(\"내 이름은 {}\".format(name))\n",
        "    print(\"나이는 {}살\".format(age))\n",
        "    print(\"국적은 {}\".format(nationality))\n",
        "\n",
        "\n",
        "myself(\"코드잇\", 1, \"미국\")  # 옵셔널 파라미터를 제공하는 경우\n",
        "print()\n",
        "myself(\"코드잇\", 1)  # 옵셔널 파라미터를 제공하지 않는 경우 (값을 넘겨주지 않았던 상황)\n",
        "\n",
        "#주의할 점: optional parameter는 모두 마지막에 있어야 함"
      ],
      "metadata": {
        "colab": {
          "base_uri": "https://localhost:8080/"
        },
        "id": "Gsb-pIAMs-RE",
        "outputId": "ba48b4e5-7525-430f-dd64-5ee3f6a3d772"
      },
      "execution_count": null,
      "outputs": [
        {
          "output_type": "stream",
          "name": "stdout",
          "text": [
            "내 이름은 코드잇\n",
            "나이는 1살\n",
            "국적은 미국\n",
            "\n",
            "내 이름은 코드잇\n",
            "나이는 1살\n",
            "국적은 한국\n"
          ]
        }
      ]
    },
    {
      "cell_type": "markdown",
      "source": [
        "**Syntactic Sugar**\n",
        ": 자주 쓰이는 표현을 더 간략하게 쓸 수 있게 하는 문법\n",
        "\n",
        "다음 두 줄은 같습니다\n",
        "\n",
        "x = x + 1\n",
        "\n",
        "x += 1\n",
        "\n",
        "다음 두 줄은 같습니다\n",
        "\n",
        "x = x + 2\n",
        "\n",
        "x += 2\n",
        "\n",
        "다음 두 줄은 같습니다\n",
        "\n",
        "x = x * 2\n",
        "\n",
        "x *= 2\n",
        "\n",
        "다음 두 줄은 같습니다\n",
        "\n",
        "x = x - 3\n",
        "\n",
        "x -= 3\n",
        "\n",
        "다음 두 줄은 같습니다\n",
        "\n",
        "x = x / 2\n",
        "\n",
        "x /= 2\n",
        "\n",
        "다음 두 줄은 같습니다\n",
        "\n",
        "x = x % 7\n",
        "\n",
        "x %= 7"
      ],
      "metadata": {
        "id": "uhFbORLQts2j"
      }
    },
    {
      "cell_type": "markdown",
      "source": [
        "**변수의 scope**\n",
        "\n",
        "변수가 사용가능한 범위\n",
        "\n",
        "로컬 변수: 변수를 정의한 함수 내에서만 사용 가능\n",
        "글로벌 변수: 모든 곳에서 사용 가능\n",
        "함수에서 변수를 사용하면, 로컬 변수를 먼저 찾고 나서 글로벌 변수를 찾음."
      ],
      "metadata": {
        "id": "L_nrILeRvrTy"
      }
    },
    {
      "cell_type": "code",
      "source": [
        "def my_function():\n",
        "  x=3\n",
        "  print(x)\n",
        "\n",
        "#my function()\n",
        "#print(x) #만약 이렇게 쓰면 오류가 난다. (x가 정의된 적이 없다고-> 이유: x는 로컬변수로 함수 내에서만 정의된 것 )"
      ],
      "metadata": {
        "id": "0x1G5_Akv8gS"
      },
      "execution_count": null,
      "outputs": []
    },
    {
      "cell_type": "code",
      "source": [
        "#반면, global 변수는 함수 안팎에서 모두 사용이 가능\n",
        "x=2\n",
        "\n",
        "def my_function():\n",
        "  print(x)\n",
        "\n",
        "my_function() #여기서 한번 2나오고\n",
        "print (x)"
      ],
      "metadata": {
        "colab": {
          "base_uri": "https://localhost:8080/"
        },
        "id": "RIrU05MDweOq",
        "outputId": "1c6a8345-0d8d-42cf-fcc8-8a28a0b1c8e9"
      },
      "execution_count": null,
      "outputs": [
        {
          "output_type": "stream",
          "name": "stdout",
          "text": [
            "2\n",
            "2\n"
          ]
        }
      ]
    },
    {
      "cell_type": "code",
      "source": [
        "x=2\n",
        "\n",
        "def my_function():\n",
        "  x=3\n",
        "  print(x)\n",
        "\n",
        "my_function() #여기서는 로컬 변수인 3을 사용\n",
        "print(x) #여기서는 글로벌 변수인 2를 사용"
      ],
      "metadata": {
        "colab": {
          "base_uri": "https://localhost:8080/"
        },
        "id": "WhIMA_sxxXs-",
        "outputId": "28911ba2-dbe5-4ac0-dadc-3ce16fcbb026"
      },
      "execution_count": null,
      "outputs": [
        {
          "output_type": "stream",
          "name": "stdout",
          "text": [
            "3\n",
            "2\n"
          ]
        }
      ]
    },
    {
      "cell_type": "code",
      "source": [
        "#파라미터도 로컬 변수\n",
        "def square(x):\n",
        "  return x*x\n",
        "\n",
        "\n",
        "print(square(3))"
      ],
      "metadata": {
        "colab": {
          "base_uri": "https://localhost:8080/"
        },
        "id": "nXEqBmerxt0T",
        "outputId": "47d6c51b-1005-4f5a-f114-ebc4483d72a6"
      },
      "execution_count": null,
      "outputs": [
        {
          "output_type": "stream",
          "name": "stdout",
          "text": [
            "9\n"
          ]
        }
      ]
    },
    {
      "cell_type": "markdown",
      "source": [
        "상수(constant)\n",
        ": 변수와는 다르게 바뀌지 않는 존재\n",
        "\n",
        "대문자로 쓰는 것이 룰"
      ],
      "metadata": {
        "id": "kW0xy1RJzohF"
      }
    },
    {
      "cell_type": "markdown",
      "source": [
        "PEP 8 스타일 가이드에는 많은 내용이 있는데, 이 시점에서 모두 다루지는 않겠습니다. 당장 도움이 될 만한 몇 가지만 말씀드릴게요. 더 많은 내용을 알고 싶으신 분들은 PEP 8 원본 문서를 참고해 주세요.\n",
        "\n",
        "<이름>\n",
        "\n",
        "이름 규칙:\n",
        "1) 모든 변수와 함수 이름은 소문자로 쓰고, 여러 단어일 경우 _로 나눠주세요.\n",
        "\n",
        "\n",
        "2) 모든 상수 이름은 대문자로 쓰고, 여러 단어일 경우 _로 나눠주세요.\n",
        "\n",
        "3) 의미 있는 이름으로 쓰기\n",
        "\n",
        "<화이트 스페이스>\n",
        "\n",
        "들여쓰기: 들여쓰기는 무조건 스페이스 4개를 사용하세요.\n",
        "\n",
        "함수 정의: 함수 정의 위아래로 빈 줄이 두 개씩 있어야 합니다. 하지만 파일의 첫 줄이 함수 정의인 경우 해당 함수 위에는 빈 줄이 없어도 됩니다.\n",
        "\n",
        "괄호 안: 괄호 바로 안에는 띄어쓰기를 하지 마세요.\n",
        "\n",
        "함수 괄호: 함수를 정의하거나 호출할 때, 함수 이름과 괄호 사이에 띄어쓰기를 하지 마세요.\n",
        "\n",
        "쉼표: 쉼표 앞에는 띄어쓰기를 하지 마세요.\n",
        "\n",
        "지정 연산자: 지정 연산자 앞뒤로 띄어쓰기를 하나씩 넣어 주세요.\n",
        "\n",
        "연산자: 1) 기본적으로는 연산자 앞뒤로 띄어쓰기를 하나씩 합니다.\n",
        "\n",
        "2) 하지만 연산의 '우선 순위'를 강조하기 위해서는, 연산자 앞뒤로 띄어쓰기를 붙이는 것을 권장합니다.\n",
        "\n",
        "코멘트: 일반 코드와 같은 줄에 코멘트를 쓸 경우, 코멘트 앞에 띄어쓰기 최소 두 개를 입력해 주세요.\n"
      ],
      "metadata": {
        "id": "AsH2ejji1G4A"
      }
    },
    {
      "cell_type": "code",
      "source": [
        "# 짝수, 홀수 실습\n",
        "def is_evenly_divisible(number):\n",
        "    return (number%2==0) # 이 부분을 쓰는 것이 핵심\n",
        "\n",
        "# 테스트 코드\n",
        "print(is_evenly_divisible(3))\n",
        "print(is_evenly_divisible(7))\n",
        "print(is_evenly_divisible(8))\n",
        "print(is_evenly_divisible(218))\n",
        "print(is_evenly_divisible(317))"
      ],
      "metadata": {
        "id": "LDeCj-Ou4w5s",
        "outputId": "1fae169d-f436-41d7-e60b-c25406e306c8",
        "colab": {
          "base_uri": "https://localhost:8080/"
        }
      },
      "execution_count": null,
      "outputs": [
        {
          "output_type": "stream",
          "name": "stdout",
          "text": [
            "False\n",
            "False\n",
            "True\n",
            "True\n",
            "False\n"
          ]
        }
      ]
    },
    {
      "cell_type": "markdown",
      "source": [
        "[거스름돈 계산기 예제 풀이법](https://qa-testing.tistory.com/entry/%ED%8C%8C%EC%9D%B4%EC%8D%AC-5-%EC%98%88%EC%A0%9C%EB%A5%BC-%ED%92%80%EB%A9%B4%EC%84%9C-%EA%B3%B5%EB%B6%80%ED%95%98%EA%B8%B0-%EA%B1%B0%EC%8A%A4%EB%A6%84%EB%8F%88-%EA%B3%84%EC%82%B0%EA%B8%B0)"
      ],
      "metadata": {
        "id": "cpsTZm0QekrC"
      }
    },
    {
      "cell_type": "code",
      "source": [
        "#거스름돈 계산기\n",
        "def calculate_change(payment, cost):\n",
        "    change = payment - cost # 거스름돈 총액\n",
        "\n",
        "    fifty_count = change // 50000 # 5만원 지페\n",
        "    fifty_thousand = change % 50000\n",
        "    ten_count = fifty_thousand // 10000 # 1만원 지폐\n",
        "    ten_thousand = fifty_thousand % 10000\n",
        "    five_count = ten_thousand // 5000 # 5천원 지폐\n",
        "    five_thousand = ten_thousand % 5000\n",
        "    one_count = five_thousand // 1000 #1 1천원 지폐\n",
        "    one_thousand = five_thousand % 1000\n",
        "\n",
        "    print (f\"50000원 지폐:{fifty_count}장\")\n",
        "    print (f\"10000원 지폐:{ten_count}장\")\n",
        "    print (f\"5000원 지폐:{five_count}장\")\n",
        "    print (f\"1000원 지폐:{one_count}장\")\n",
        "\n",
        "# 테스트 코드\n",
        "calculate_change(100000, 33000)\n",
        "print()\n",
        "calculate_change(500000, 378000)"
      ],
      "metadata": {
        "colab": {
          "base_uri": "https://localhost:8080/"
        },
        "id": "g7JHD8siedHu",
        "outputId": "f81eda75-3cdf-48fe-9a1c-d7435b651079"
      },
      "execution_count": null,
      "outputs": [
        {
          "output_type": "stream",
          "name": "stdout",
          "text": [
            "50000원 지폐:1장\n",
            "10000원 지폐:1장\n",
            "5000원 지폐:1장\n",
            "1000원 지폐:2장\n",
            "\n",
            "50000원 지폐:2장\n",
            "10000원 지폐:2장\n",
            "5000원 지폐:0장\n",
            "1000원 지폐:2장\n"
          ]
        }
      ]
    }
  ]
}