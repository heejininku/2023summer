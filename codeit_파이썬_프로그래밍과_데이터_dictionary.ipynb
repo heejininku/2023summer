{
  "nbformat": 4,
  "nbformat_minor": 0,
  "metadata": {
    "colab": {
      "provenance": [],
      "authorship_tag": "ABX9TyM8zqSAW9ttCkvnw7ZSBblZ",
      "include_colab_link": true
    },
    "kernelspec": {
      "name": "python3",
      "display_name": "Python 3"
    },
    "language_info": {
      "name": "python"
    }
  },
  "cells": [
    {
      "cell_type": "markdown",
      "metadata": {
        "id": "view-in-github",
        "colab_type": "text"
      },
      "source": [
        "<a href=\"https://colab.research.google.com/github/heejininku/2023summer/blob/main/codeit_%ED%8C%8C%EC%9D%B4%EC%8D%AC_%ED%94%84%EB%A1%9C%EA%B7%B8%EB%9E%98%EB%B0%8D%EA%B3%BC_%EB%8D%B0%EC%9D%B4%ED%84%B0_dictionary.ipynb\" target=\"_parent\"><img src=\"https://colab.research.google.com/assets/colab-badge.svg\" alt=\"Open In Colab\"/></a>"
      ]
    },
    {
      "cell_type": "code",
      "execution_count": null,
      "metadata": {
        "colab": {
          "base_uri": "https://localhost:8080/"
        },
        "id": "N8IeRh5yoBIF",
        "outputId": "b3ccf8d9-3590-4da5-e2f7-039037baa8ce"
      },
      "outputs": [
        {
          "output_type": "stream",
          "name": "stdout",
          "text": [
            "<class 'dict'>\n",
            "{5: 25, 2: 4, 3: 9, 9: 81}\n"
          ]
        }
      ],
      "source": [
        "#사전 (dictionary)\n",
        "# key-value pair (키-값 쌍)\n",
        "my_dictionary = {\n",
        "    5: 25,\n",
        "    2: 4,\n",
        "    3: 9\n",
        "}\n",
        "\n",
        "\n",
        "print(type (my_dictionary))\n",
        "\n",
        "my_dictionary [3] #dictionary indexing\n",
        "\n",
        "# 새로운 쌍 추가해주기\n",
        "my_dictionary [9] = 81\n",
        "print (my_dictionary)\n",
        "\n",
        "#리스트와 다르게 순서의 의미가 없는 dictionary\n",
        "#리스트의 index는 0,1... 이런 식으로 정수 값이었는데, 사전의 key는 정수가 아니어도 된다."
      ]
    },
    {
      "cell_type": "code",
      "source": [
        "# 예제: 영어 단어장\n",
        "# 1. 단어장 만들기\n",
        "vocab = {\n",
        "    'sanitizer': '살균제',\n",
        "    'ambition': '야망',\n",
        "    'conscience': '양심',\n",
        "    'civilization': '문명'\n",
        "}\n",
        "print(vocab)\n",
        "\n",
        "\n",
        "# 2. 새로운 단어들 추가\n",
        "vocab ['privilege'] = '특권'\n",
        "vocab ['principle'] = '원칙'\n",
        "\n",
        "print(vocab)"
      ],
      "metadata": {
        "id": "zAgZRba4q6OF"
      },
      "execution_count": null,
      "outputs": []
    },
    {
      "cell_type": "code",
      "source": [
        "my_family = {\n",
        "    '엄마': '김자옥',\n",
        "    '아빠': '이석민',\n",
        "    '아들': '이동민',\n",
        "    '딸': '이지영'\n",
        "}\n",
        "\n",
        "print (my_family.values()) # dictionary 안에 어떤 값이 있는지 확인\n",
        "print ('이지영' in my_family.values()) # 이 값이 안에 있기 때문에 불린 값 true가 나옴.\n",
        "print ('성태호' in my_family.values()) # 이 값이 안에 없기 떄문에 불린 값 false가 나옴.\n",
        "\n",
        "for value in my_family. values(): # for문으로 리스트를 돌듯이 값들을 하나씩 받아옴.\n",
        "    print(value)\n",
        "\n",
        "print (my_family.keys())\n",
        "for key in my_family. keys(): # 이번에는 for문으로 리스트를 돌듯이 키들을 하나씩 받아옴.\n",
        "     print(key)\n",
        "\n",
        "for key, value in my_family. items(): #key, value 동시에 받아오기\n",
        "    print (key, value)"
      ],
      "metadata": {
        "colab": {
          "base_uri": "https://localhost:8080/"
        },
        "id": "AOPIvvaLuABm",
        "outputId": "66647f90-4bc6-4724-c172-768a3e8f24c2"
      },
      "execution_count": null,
      "outputs": [
        {
          "output_type": "stream",
          "name": "stdout",
          "text": [
            "dict_values(['김자옥', '이석민', '이동민', '이지영'])\n",
            "True\n",
            "False\n",
            "김자옥\n",
            "이석민\n",
            "이동민\n",
            "이지영\n",
            "dict_keys(['엄마', '아빠', '아들', '딸'])\n",
            "엄마\n",
            "아빠\n",
            "아들\n",
            "딸\n",
            "엄마 김자옥\n",
            "아빠 이석민\n",
            "아들 이동민\n",
            "딸 이지영\n"
          ]
        }
      ]
    },
    {
      "cell_type": "code",
      "source": [
        "# 언어 사전의 단어와 뜻을 서로 바꿔주는 함수\n",
        "def reverse_dict(dict):\n",
        "    new_dict = {}  # 새로운 사전\n",
        "\n",
        "    # dict의 key와 value를 뒤집어서 new_dict에 저장\n",
        "\n",
        "    for key, value in dict.items(): # key, value 동시에 받아오기\n",
        "        new_dict [value] = key # 새로운 사전에서는 value 자리에 key 넣기\n",
        "\n",
        "    return new_dict  # 변환한 새로운 사전 리턴\n",
        "\n",
        "\n",
        "# 영-한 단어장\n",
        "vocab = {\n",
        "    'sanitizer': '살균제',\n",
        "    'ambition': '야망',\n",
        "    'conscience': '양심',\n",
        "    'civilization': '문명',\n",
        "    'privilege': '특권',\n",
        "    'principles': '원칙'\n",
        "}\n",
        "\n",
        "# 기존 단어장 출력\n",
        "print(\"영-한 단어장\\n{}\\n\".format(vocab))\n",
        "\n",
        "# 변환된 단어장 출력\n",
        "reversed_vocab = reverse_dict(vocab)\n",
        "print(\"한-영 단어장\\n{}\".format(reversed_vocab))"
      ],
      "metadata": {
        "id": "IHMNhUliwGW9"
      },
      "execution_count": null,
      "outputs": []
    },
    {
      "cell_type": "code",
      "source": [
        "# 예제: 투표 집계하기\n",
        "# 효신이는 매년 국회의원 선거 때마다, 성북구에서 집계 도우미 봉사를 하는데요. 작년까지는 표를 손수 세다가, 올해부터는 IT 시대에 더 적합한 솔루션을 개발하려고 합니다.\n",
        "# 파이썬 리스트 votes에는 성북구민들의 투표 결과가 저장되어 있습니다. 리스트 votes의 정보를 토대로, 사전 vote_counter에 후보별 득표수를 정리하는 것이 목표입니다.\n",
        "# 예를 들어서 votes가 ['허유나', '서혜선', '허유나']라고 가정하면, vote_counter는 {'허유나': 2, '서혜선': 1}이 되어야 하는 거죠.\n",
        "\n",
        "# 투표 결과 리스트\n",
        "votes = ['김영자', '강승기', '최만수', '김영자', '강승기', '강승기', '최만수', '김영자', \\\n",
        "'최만수', '김영자', '최만수', '김영자', '김영자', '최만수', '최만수', '최만수', '강승기', \\\n",
        "'강승기', '김영자', '김영자', '최만수', '김영자', '김영자', '강승기', '김영자']\n",
        "\n",
        "# 후보별 득표수 사전\n",
        "vote_counter = {}\n",
        "\n",
        "# 리스트 votes를 이용해서 사전 vote_counter를 정리하기\n",
        "for name in votes:\n",
        "    if name not in vote_counter:\n",
        "        vote_counter[name] = 1\n",
        "    else:\n",
        "        vote_counter[name] += 1\n",
        "\n",
        "# 후보별 득표수 출력\n",
        "print(vote_counter)"
      ],
      "metadata": {
        "colab": {
          "base_uri": "https://localhost:8080/"
        },
        "id": "7l2Co0IMoE1p",
        "outputId": "5a1fa618-ee01-47f0-cb7b-e4f2628b9fca"
      },
      "execution_count": null,
      "outputs": [
        {
          "output_type": "stream",
          "name": "stdout",
          "text": [
            "{'김영자': 11, '강승기': 6, '최만수': 8}\n"
          ]
        }
      ]
    }
  ]
}