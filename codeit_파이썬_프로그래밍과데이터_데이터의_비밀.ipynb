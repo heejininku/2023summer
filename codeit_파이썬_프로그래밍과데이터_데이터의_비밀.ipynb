{
  "nbformat": 4,
  "nbformat_minor": 0,
  "metadata": {
    "colab": {
      "provenance": [],
      "authorship_tag": "ABX9TyOLyDdk9Xa44KMJUR57Te9p",
      "include_colab_link": true
    },
    "kernelspec": {
      "name": "python3",
      "display_name": "Python 3"
    },
    "language_info": {
      "name": "python"
    }
  },
  "cells": [
    {
      "cell_type": "markdown",
      "metadata": {
        "id": "view-in-github",
        "colab_type": "text"
      },
      "source": [
        "<a href=\"https://colab.research.google.com/github/heejininku/2023summer/blob/main/codeit_%ED%8C%8C%EC%9D%B4%EC%8D%AC_%ED%94%84%EB%A1%9C%EA%B7%B8%EB%9E%98%EB%B0%8D%EA%B3%BC%EB%8D%B0%EC%9D%B4%ED%84%B0_%EB%8D%B0%EC%9D%B4%ED%84%B0%EC%9D%98_%EB%B9%84%EB%B0%80.ipynb\" target=\"_parent\"><img src=\"https://colab.research.google.com/assets/colab-badge.svg\" alt=\"Open In Colab\"/></a>"
      ]
    },
    {
      "cell_type": "code",
      "execution_count": null,
      "metadata": {
        "colab": {
          "base_uri": "https://localhost:8080/"
        },
        "id": "KEfvCaDky7ck",
        "outputId": "b9ff0d69-70cd-441a-e0cd-6000ab855569"
      },
      "outputs": [
        {
          "output_type": "stream",
          "name": "stdout",
          "text": [
            "5\n",
            "3\n"
          ]
        }
      ],
      "source": [
        "x = 5\n",
        "y = x\n",
        "y = 3\n",
        "print (x)\n",
        "print (y)"
      ]
    },
    {
      "cell_type": "code",
      "source": [
        "x = [2, 3, 5, 7, 11]\n",
        "y = x\n",
        "y[2] = 4 # 여기서 y는 x의 가명 (alias)라고 함. 이름은 다르지만 같은 값을 가지고 있음.\n",
        "print (x)\n",
        "print (y)\n",
        "\n",
        "# 해당 값을 보면 x = [2,3,5,7,11] 일 것 같은데 그렇지 않음\n",
        "# 같은 이름표를 달고 있던 y가 리스트의 내부를 바꾸어 주었기에 x도 변화하게 됨."
      ],
      "metadata": {
        "colab": {
          "base_uri": "https://localhost:8080/"
        },
        "id": "dNyAX66uz7Vn",
        "outputId": "438077db-3015-4c60-b763-b0007886cc7a"
      },
      "execution_count": null,
      "outputs": [
        {
          "output_type": "stream",
          "name": "stdout",
          "text": [
            "[2, 3, 4, 7, 11]\n",
            "[2, 3, 4, 7, 11]\n"
          ]
        }
      ]
    },
    {
      "cell_type": "code",
      "source": [
        "# 이번에는 y는 바꾸고 x의 값은 그대로 유지해보자\n",
        "x = [2, 3, 5, 7, 11]\n",
        "y = list (x) # 리스트 함수로 인해 리스트가 새롭게 복사된 상황\n",
        "y[2] = 4\n",
        "print (x)\n",
        "print (y)"
      ],
      "metadata": {
        "colab": {
          "base_uri": "https://localhost:8080/"
        },
        "id": "PEHWm0Cr0hGz",
        "outputId": "aa169c5d-8bf6-4f9a-f47a-5c55c259d3c3"
      },
      "execution_count": null,
      "outputs": [
        {
          "output_type": "stream",
          "name": "stdout",
          "text": [
            "[2, 3, 5, 7, 11]\n",
            "[2, 3, 4, 7, 11]\n"
          ]
        }
      ]
    },
    {
      "cell_type": "markdown",
      "source": [
        "**리스트와 문자열**\n",
        "\n",
        "리스트와 문자열은 굉장히 비슷합니다. 리스트가 어떤 자료형들의 나열이라면, 문자열은 문자들의 나열이라고 할 수 있겠죠. 지금부터 파이썬에서 리스트와 문자열이 어떻게 같고 어떻게 다른지 알아봅시다"
      ],
      "metadata": {
        "id": "lbHZP5cx2QtO"
      }
    },
    {
      "cell_type": "markdown",
      "source": [
        "**리스트와 문자열의 공통점**"
      ],
      "metadata": {
        "id": "5Mpg4I_K278j"
      }
    },
    {
      "cell_type": "code",
      "source": [
        "# 인덱싱\n",
        "# 두 자료형은 공통적으로 인덱싱이 가능합니다.\n",
        "# 알파벳 리스트의 인덱싱\n",
        "alphabets_list = ['A', 'B', 'C', 'D', 'E', 'F', 'G', 'H', 'I', 'J']\n",
        "print(alphabets_list[0])\n",
        "print(alphabets_list[1])\n",
        "print(alphabets_list[4])\n",
        "print(alphabets_list[-1])\n",
        "\n",
        "# 알파벳 문자열의 인덱싱\n",
        "alphabets_string = 'ABCDEFGHIJ'\n",
        "print(alphabets_string[0])\n",
        "print(alphabets_string[1])\n",
        "print(alphabets_string[4])\n",
        "print(alphabets_string[-1])"
      ],
      "metadata": {
        "colab": {
          "base_uri": "https://localhost:8080/"
        },
        "id": "b9SWQ2cu2X04",
        "outputId": "fd49b78d-0952-4e8f-d555-e4cf32638403"
      },
      "execution_count": null,
      "outputs": [
        {
          "output_type": "stream",
          "name": "stdout",
          "text": [
            "A\n",
            "B\n",
            "E\n",
            "J\n",
            "A\n",
            "B\n",
            "E\n",
            "J\n"
          ]
        }
      ]
    },
    {
      "cell_type": "code",
      "source": [
        "# for 반복문\n",
        "# 두 자료형은 공통적으로 인덱싱이 가능합니다. 따라서 for 반복문에도 활용할 수 있습니다.\n",
        "\n",
        "# 알파벳 리스트의 반복문\n",
        "alphabets_list = ['C', 'O', 'D', 'E', 'I', 'T']\n",
        "for alphabet in alphabets_list:\n",
        "    print(alphabet)\n",
        "\n",
        "# 알파벳 문자열의 반복문\n",
        "alphabets_string = 'CODEIT'\n",
        "for alphabet in alphabets_string:\n",
        "    print(alphabet)"
      ],
      "metadata": {
        "colab": {
          "base_uri": "https://localhost:8080/"
        },
        "id": "xAWPUJ-r2iO_",
        "outputId": "0c3bd996-b586-43b6-a006-bca9a321c324"
      },
      "execution_count": null,
      "outputs": [
        {
          "output_type": "stream",
          "name": "stdout",
          "text": [
            "C\n",
            "O\n",
            "D\n",
            "E\n",
            "I\n",
            "T\n",
            "C\n",
            "O\n",
            "D\n",
            "E\n",
            "I\n",
            "T\n"
          ]
        }
      ]
    },
    {
      "cell_type": "code",
      "source": [
        "# 슬라이싱 (Slicing)\n",
        "# 두 자료형은 공통적으로 슬라이싱이 가능합니다.\n",
        "\n",
        "# 알파벳 리스트의 슬라이싱\n",
        "alphabets_list = ['A', 'B', 'C', 'D', 'E', 'F', 'G', 'H', 'I', 'J']\n",
        "print(alphabets_list[0:5])\n",
        "print(alphabets_list[4:])\n",
        "print(alphabets_list[:4])\n",
        "\n",
        "# 알파벳 문자열의 슬라이싱\n",
        "alphabets_string = 'ABCDEFGHIJ'\n",
        "print(alphabets_string[0:5])\n",
        "print(alphabets_string[4:])\n",
        "print(alphabets_string[:4])"
      ],
      "metadata": {
        "colab": {
          "base_uri": "https://localhost:8080/"
        },
        "id": "Z1rStOVl2rVi",
        "outputId": "8f4086a7-204e-47a9-9d84-538ec84b12a1"
      },
      "execution_count": null,
      "outputs": [
        {
          "output_type": "stream",
          "name": "stdout",
          "text": [
            "['A', 'B', 'C', 'D', 'E']\n",
            "['E', 'F', 'G', 'H', 'I', 'J']\n",
            "['A', 'B', 'C', 'D']\n",
            "ABCDE\n",
            "EFGHIJ\n",
            "ABCD\n"
          ]
        }
      ]
    },
    {
      "cell_type": "code",
      "source": [
        "# 덧셈 연산\n",
        "# 두 자료형에게 모두 덧셈은 \"연결\"하는 연산입니다.\n",
        "\n",
        "# 리스트의 덧셈 연산\n",
        "list1 = [1, 2, 3, 4]\n",
        "list2 = [5, 6, 7, 8]\n",
        "list3 = list1 + list2\n",
        "print(list3)\n",
        "\n",
        "# 문자열의 덧셈 연산\n",
        "string1 = '1234'\n",
        "string2 = '5678'\n",
        "string3 = string1 + string2\n",
        "print(string3)"
      ],
      "metadata": {
        "colab": {
          "base_uri": "https://localhost:8080/"
        },
        "id": "4HRsPAlm2y-3",
        "outputId": "fd96c6ec-47f8-478b-9f3a-79ca2ec76010"
      },
      "execution_count": null,
      "outputs": [
        {
          "output_type": "stream",
          "name": "stdout",
          "text": [
            "[1, 2, 3, 4, 5, 6, 7, 8]\n",
            "12345678\n"
          ]
        }
      ]
    },
    {
      "cell_type": "code",
      "source": [
        "# len 함수\n",
        "# 두 자료형은 모두 길이를 재는 len 함수를 쓸 수 있습니다.\n",
        "\n",
        "# 리스트의 길이 재기\n",
        "print(len(['H', 'E', 'L', 'L', 'O']))\n",
        "\n",
        "# 문자열의 길이 재기\n",
        "print(len(\"Hello, world!\"))"
      ],
      "metadata": {
        "colab": {
          "base_uri": "https://localhost:8080/"
        },
        "id": "qPRHjZo122pf",
        "outputId": "f7b24ff9-3edf-44e6-a760-e5da829e468a"
      },
      "execution_count": null,
      "outputs": [
        {
          "output_type": "stream",
          "name": "stdout",
          "text": [
            "5\n",
            "13\n"
          ]
        }
      ]
    },
    {
      "cell_type": "markdown",
      "source": [
        "**리스트와 문자열의 차이점**\n",
        "\n",
        "하지만 차이점이 있습니다. 리스트는 데이터를 바꿀 수 있지만, 문자열은 데이터를 바꿀 수 없다는 것입니다. 리스트와 같이 수정 가능한 자료형을 'mutable'한 자료형이라고 부르고, 문자열과 같이 수정 불가능한 자료형을 'immutable'한 자료형이라고 부릅니다. 숫자, 불린, 문자열은 모두 immutable한 자료형입니다."
      ],
      "metadata": {
        "id": "Tp1-Qrn92_gs"
      }
    },
    {
      "cell_type": "code",
      "source": [
        "# 리스트 데이터 바꾸기\n",
        "numbers = [1, 2, 3, 4]\n",
        "numbers[0] = 5\n",
        "print(numbers)"
      ],
      "metadata": {
        "colab": {
          "base_uri": "https://localhost:8080/"
        },
        "id": "XY0Nm9iP26wA",
        "outputId": "32c698e9-0443-41e0-be14-a9f2370cbcdf"
      },
      "execution_count": null,
      "outputs": [
        {
          "output_type": "stream",
          "name": "stdout",
          "text": [
            "[5, 2, 3, 4]\n"
          ]
        }
      ]
    },
    {
      "cell_type": "markdown",
      "source": [
        "리스트 numbers의 인덱스 0에 5를 새롭게 지정해주었습니다. [5, 2, 3, 4]가 출력되었습니다. 이처럼 리스트는 데이터의 생성, 삭제, 수정이 가능합니다."
      ],
      "metadata": {
        "id": "5xPMkiAW3LKA"
      }
    },
    {
      "cell_type": "code",
      "source": [
        "# 문자열 데이터 바꾸기\n",
        "name = \"codeit\"\n",
        "name[0] = \"C\"\n",
        "print(name)\n",
        "# 문자열 name의 인덱스 0 에 \"C\"를 새롭게 지정해주었더니 오류가 나왔습니다.\n",
        "# TypeError: 'str' object does not support item assignment는 문자열은 변형이 불가능하다는 메시지입니다.\n",
        "# 이처럼 문자열은 리스트와 달리 데이터의 생성, 삭제, 수정이 불가능합니다.\n"
      ],
      "metadata": {
        "id": "xqMiY75W3K64"
      },
      "execution_count": null,
      "outputs": []
    },
    {
      "cell_type": "code",
      "source": [
        "# 예제 - 자리수 합 구하기\n",
        "\n",
        "# 자리수 합 리턴\n",
        "def sum_digit(num): # 자릿수 합 함수 정의\n",
        "    total = 0  # 자릿수 합 보관하는 변수 total\n",
        "    str_num = str(num) # 정수형 num을 문자열로 변화\n",
        "    for digit in str_num: # 문자열에서 반복적으로 각 자릿수를 받음\n",
        "      total += int(digit) #토탈 변수 0에 문자열의 각 자릿수들을 하나씩 더한다.\n",
        "    return total #반복이 끝나면 total 리턴\n",
        "\n",
        "# sum_digit(1)부터 sum_digit(1000)까지의 합 구하기\n",
        "digit_total = 0\n",
        "for i in range(1, 1001):\n",
        "    digit_total += sum_digit(i)\n",
        "\n",
        "print(digit_total)"
      ],
      "metadata": {
        "id": "YUpdUf1c8WzK"
      },
      "execution_count": null,
      "outputs": []
    },
    {
      "cell_type": "code",
      "source": [
        "# 예제 - 주민등록번호 가리기\n",
        "\n",
        "# 방법 1) 가장 쉬움 (뒤의 4자리 제외하고 문자열 슬라이싱 후에 문자열 '****'과 연결)\n",
        "def mask_security_number(security_number):\n",
        "    return security_number [:-4] + '****'\n",
        "\n",
        "# 테스트 코드\n",
        "print(mask_security_number(\"880720-1234567\"))\n",
        "print(mask_security_number(\"8807201234567\"))\n",
        "print(mask_security_number(\"930124-7654321\"))\n",
        "print(mask_security_number(\"9301247654321\"))\n",
        "print(mask_security_number(\"761214-2357111\"))\n",
        "print(mask_security_number(\"7612142357111\"))"
      ],
      "metadata": {
        "colab": {
          "base_uri": "https://localhost:8080/"
        },
        "id": "3LYF460PAVM4",
        "outputId": "90cf957a-64d7-4363-b445-582b21091ef0"
      },
      "execution_count": null,
      "outputs": [
        {
          "output_type": "stream",
          "name": "stdout",
          "text": [
            "880720-123****\n",
            "880720123****\n",
            "930124-765****\n",
            "930124765****\n",
            "761214-235****\n",
            "761214235****\n"
          ]
        }
      ]
    },
    {
      "cell_type": "code",
      "source": [
        "# 예제 - 주민등록번호 가리기\n",
        "\n",
        "# 방법 2\n",
        "\n",
        "def mask_security_number(security_number):\n",
        "    # security_number를 리스트로 변환\n",
        "    num_list = list(security_number)\n",
        "\n",
        "    # 마지막 네 값을 *로 대체\n",
        "    for i in range(len(num_list) - 4, len(num_list)): # 범위를 끝 4자리로 설정\n",
        "        num_list[i] = \"*\" # 해당 범위의 부분들을 '*'로 변화\n",
        "\n",
        "    # 리스트를 문자열로 복구\n",
        "    total_str = \"\" # 빈 문자열로 시작\n",
        "    for i in range(len(num_list)):\n",
        "        total_str += num_list[i] # 리스트의 각 요소들을 빈 문자열에 연결해주기 (덧셈 연산 활용)\n",
        "\n",
        "    return total_str\n",
        "\n",
        "    # 테스트 코드\n",
        "print(mask_security_number(\"880720-1234567\"))\n",
        "print(mask_security_number(\"8807201234567\"))\n",
        "print(mask_security_number(\"930124-7654321\"))\n",
        "print(mask_security_number(\"9301247654321\"))\n",
        "print(mask_security_number(\"761214-2357111\"))\n",
        "print(mask_security_number(\"7612142357111\"))"
      ],
      "metadata": {
        "colab": {
          "base_uri": "https://localhost:8080/"
        },
        "id": "NHBbc1pIApny",
        "outputId": "36f56995-be41-454a-9a1e-78c62eb8e8ca"
      },
      "execution_count": null,
      "outputs": [
        {
          "output_type": "stream",
          "name": "stdout",
          "text": [
            "880720-123****\n",
            "880720123****\n",
            "930124-765****\n",
            "930124765****\n",
            "761214-235****\n",
            "761214235****\n"
          ]
        }
      ]
    },
    {
      "cell_type": "code",
      "source": [
        "# 예제 - 주민등록번호 가리기\n",
        "\n",
        "# 방법 3: join () 활용\n",
        "\n",
        "def mask_security_number(security_number):\n",
        "    num_list = list(security_number)\n",
        "\n",
        "    # 마지막 네 값을 *로 대체\n",
        "    for i in range(len(num_list) - 4, len(num_list)):\n",
        "        num_list[i] = '*'\n",
        "\n",
        "    # 리스트를 문자열로 복구하여 반환\n",
        "    return ''.join(num_list)\n",
        "\n",
        "    # 테스트 코드\n",
        "print(mask_security_number(\"880720-1234567\"))\n",
        "print(mask_security_number(\"8807201234567\"))\n",
        "print(mask_security_number(\"930124-7654321\"))\n",
        "print(mask_security_number(\"9301247654321\"))\n",
        "print(mask_security_number(\"761214-2357111\"))\n",
        "print(mask_security_number(\"7612142357111\"))\n"
      ],
      "metadata": {
        "colab": {
          "base_uri": "https://localhost:8080/"
        },
        "id": "SfggNA3pBs-t",
        "outputId": "795def27-1575-4353-b246-c11012015e3a"
      },
      "execution_count": null,
      "outputs": [
        {
          "output_type": "stream",
          "name": "stdout",
          "text": [
            "880720-123****\n",
            "880720123****\n",
            "930124-765****\n",
            "930124765****\n",
            "761214-235****\n",
            "761214235****\n"
          ]
        }
      ]
    },
    {
      "cell_type": "code",
      "source": [],
      "metadata": {
        "id": "LoF0VLbmFX3f"
      },
      "execution_count": null,
      "outputs": []
    },
    {
      "cell_type": "markdown",
      "source": [
        "## 예제 - 팰린드롬\n",
        "\n",
        "\"토마토\"나 \"기러기\"처럼 거꾸로 읽어도 똑같은 단어를 '팰린드롬(palindrome)'이라고 부릅니다.\n",
        "\n",
        "팰린드롬 여부를 확인하는 함수 is_palindrome을 작성하려고 하는데요. is_palindrome은 파라미터 word가 팰린드롬이면 True를 리턴하고 팰린드롬이 아니면 False를 리턴합니다.\n",
        "\n",
        "해설\n",
        "\n",
        "문자열의 첫 번째 원소와 마지막 원소를 비교해서 일치하는지 확인해야 합니다. 그 다음 문자열의 두 번째 원소와 끝에서 두 번째 원소를 비교해서 일치하는지 확인해야겠죠.\n",
        "문자열 word의 첫 번째 원소의 인덱스는 0이고, 마지막 원소의 인덱스는 len(word) - 1입니다. 문자열 word의 두 번째 원소의 인덱스는 1이고, 끝에서 두 번째 원소의 인덱스는 len(word) - 2입니다.\n",
        "\n",
        "이걸 어떻게 일반화할 수 있을까요?\n",
        "\n",
        "i를 0부터 1씩 늘린다고 가정했을 때, 인덱스 i에 있는 값과 인덱스 len(word) - i - 1에 있는 값을 비교하면 됩니다!\n",
        "\n",
        "참고로 i를 0부터 len(word) - 1까지 반복할 필요는 없습니다. 어차피 반대쪽과 비교하는 것이기 때문에 i를 len(word) // 2까지만 반복해도 이미 모든 확인은 끝나는 거죠!"
      ],
      "metadata": {
        "id": "OHM8m4dhFsSw"
      }
    },
    {
      "cell_type": "code",
      "source": [
        "def is_palindrome(word):\n",
        "    for left in range(len(word) // 2): # 범위는 중간까지만 체크해보아도 됨 (어차피 가운데는 만나니까)\n",
        "        # 한 쌍이라도 일치하지 않으면 바로 False를 리턴하고 함수를 끝냄\n",
        "        right = len(word) - left - 1\n",
        "        if word[left] != word[right]:\n",
        "            return False\n",
        "\n",
        "    # for문에서 나왔다면 모든 쌍이 일치\n",
        "    return True\n",
        "\n",
        "\n",
        "# 테스트 코드\n",
        "print(is_palindrome(\"racecar\"))\n",
        "print(is_palindrome(\"stars\"))\n",
        "print(is_palindrome(\"토마토\"))\n",
        "print(is_palindrome(\"kayak\"))\n",
        "print(is_palindrome(\"hello\"))"
      ],
      "metadata": {
        "colab": {
          "base_uri": "https://localhost:8080/"
        },
        "id": "QrmzOhmpF4LK",
        "outputId": "a2482ff9-0eaa-4f4b-cc7f-6558f25f96b9"
      },
      "execution_count": null,
      "outputs": [
        {
          "output_type": "stream",
          "name": "stdout",
          "text": [
            "True\n",
            "False\n",
            "True\n",
            "True\n",
            "False\n"
          ]
        }
      ]
    }
  ]
}