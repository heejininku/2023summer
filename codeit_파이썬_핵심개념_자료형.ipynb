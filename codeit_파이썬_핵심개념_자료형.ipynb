{
  "nbformat": 4,
  "nbformat_minor": 0,
  "metadata": {
    "colab": {
      "provenance": [],
      "authorship_tag": "ABX9TyNpbu1CwLBqEXUHOxg3K+Fn",
      "include_colab_link": true
    },
    "kernelspec": {
      "name": "python3",
      "display_name": "Python 3"
    },
    "language_info": {
      "name": "python"
    }
  },
  "cells": [
    {
      "cell_type": "markdown",
      "metadata": {
        "id": "view-in-github",
        "colab_type": "text"
      },
      "source": [
        "<a href=\"https://colab.research.google.com/github/heejininku/2023summer/blob/main/codeit_%ED%8C%8C%EC%9D%B4%EC%8D%AC_%ED%95%B5%EC%8B%AC%EA%B0%9C%EB%85%90_%EC%9E%90%EB%A3%8C%ED%98%95.ipynb\" target=\"_parent\"><img src=\"https://colab.research.google.com/assets/colab-badge.svg\" alt=\"Open In Colab\"/></a>"
      ]
    },
    {
      "cell_type": "markdown",
      "source": [
        "**숫자형(number)**"
      ],
      "metadata": {
        "id": "G4-ReQDcSpRQ"
      }
    },
    {
      "cell_type": "code",
      "execution_count": null,
      "metadata": {
        "colab": {
          "base_uri": "https://localhost:8080/"
        },
        "id": "Zv3-5LdkSiVN",
        "outputId": "f80f8b5d-5eb9-4124-8861-be4e64bb2e4f"
      },
      "outputs": [
        {
          "output_type": "stream",
          "name": "stdout",
          "text": [
            "11\n",
            "-2\n",
            "15\n",
            "1\n",
            "8\n"
          ]
        }
      ],
      "source": [
        "#덧셈\n",
        "print (4+7)\n",
        "#뺄셈\n",
        "print (2-4)\n",
        "#곱셈\n",
        "print (5*3)\n",
        "#나머지 (나머지 기호: % -> 아래 코드는 7를 3으로 나눈 것의 나머지를 구하라는 것)\n",
        "print (7%3)\n",
        "#거듭제곱(** 별을 두개 사용)\n",
        "print (2**3)"
      ]
    },
    {
      "cell_type": "markdown",
      "source": [
        "정수형으로 식을 쓰면 정수형으로 나옴\n",
        "\n",
        "소수형으로 식을 쓰면 소수형으로 나옴\n",
        "\n",
        "두개가 섞여 있으면 소수형으로 나옴 (정수형보다 소수형이 힘이 더 강하다)"
      ],
      "metadata": {
        "id": "ZjRWjU4ASw1Z"
      }
    },
    {
      "cell_type": "code",
      "source": [
        "#나눗셈\n",
        "#위의 정수형, 소수형 룰을 따르지 않음\n",
        "#어떻게 하던지 간에 다 소수형이 나옴\n",
        "print (7/2)\n",
        "print (6/2)\n",
        "print (7.0/2)\n",
        "print (6.0/2.0)"
      ],
      "metadata": {
        "colab": {
          "base_uri": "https://localhost:8080/"
        },
        "id": "10-NFF9kTais",
        "outputId": "f167c06f-acbf-4601-c733-6a67af68ba94"
      },
      "execution_count": null,
      "outputs": [
        {
          "output_type": "stream",
          "name": "stdout",
          "text": [
            "3.5\n",
            "3.0\n",
            "3.5\n",
            "3.0\n"
          ]
        }
      ]
    },
    {
      "cell_type": "code",
      "source": [
        "print (2+3*2)\n",
        "print (2*(2+3))"
      ],
      "metadata": {
        "colab": {
          "base_uri": "https://localhost:8080/"
        },
        "id": "J6TfbhqeTn1e",
        "outputId": "c53187fc-edf3-4577-8898-c1ef46c609f9"
      },
      "execution_count": null,
      "outputs": [
        {
          "output_type": "stream",
          "name": "stdout",
          "text": [
            "8\n",
            "10\n"
          ]
        }
      ]
    },
    {
      "cell_type": "code",
      "source": [
        "#floor division (버림 나눗셈)\n",
        "print (7//2)\n",
        "#나온 결과 값에서 소수점을 버리는 것\n",
        "print (8//3)\n",
        "print (8.0//3) #둘 중 하나가 소수형이기에 소수형이 나옴"
      ],
      "metadata": {
        "colab": {
          "base_uri": "https://localhost:8080/"
        },
        "id": "GuvUbAQKUDQ-",
        "outputId": "bc2bde98-803d-4c0a-d85d-f2b839271244"
      },
      "execution_count": null,
      "outputs": [
        {
          "output_type": "stream",
          "name": "stdout",
          "text": [
            "3\n",
            "2\n",
            "2.0\n"
          ]
        }
      ]
    },
    {
      "cell_type": "code",
      "source": [
        "#round함수 #반올림\n",
        "print(round(3.1415926535)) #라운드 함수의 parameter에 소수형을 넣어준 것\n",
        "#소수 둘째자리까지 반올림 : 두번째 parameter에 2\n",
        "print(round(3.1415926535, 2))\n",
        "print(round(3.1415926535, 4)) #소수 넷째자리까지 반올림"
      ],
      "metadata": {
        "colab": {
          "base_uri": "https://localhost:8080/"
        },
        "id": "dpSbBjD7UWqJ",
        "outputId": "683ed3fb-cfb7-42d2-e55c-5a9d34f20a64"
      },
      "execution_count": null,
      "outputs": [
        {
          "output_type": "stream",
          "name": "stdout",
          "text": [
            "3\n",
            "3.14\n",
            "3.1416\n"
          ]
        }
      ]
    },
    {
      "cell_type": "markdown",
      "source": [
        "**문자열 (string)**"
      ],
      "metadata": {
        "id": "-TdHYXJdVKgr"
      }
    },
    {
      "cell_type": "code",
      "source": [
        "print (\"코드잇\")\n",
        "print (\"유재석\")\n",
        "print (\"I'm exicited to learn Python\") # 작은 따옴표가 문장 안에 있으면 겉을 \"\"쓰기\n",
        "# 만약 string 안에 \"\"도 있고 ''도 있으면, 안쪽 따옴표 앞에 \\ 넣어주기\n",
        "print (\"I\\'m \\\"exicited\\\" to learn Python\")"
      ],
      "metadata": {
        "colab": {
          "base_uri": "https://localhost:8080/"
        },
        "id": "shfZRN-EVO9k",
        "outputId": "364b9117-60c8-4303-8cf5-96a5557133e8"
      },
      "execution_count": null,
      "outputs": [
        {
          "output_type": "stream",
          "name": "stdout",
          "text": [
            "코드잇\n",
            "유재석\n",
            "I'm exicited to learn Python\n",
            "I'm \"exicited\" to learn Python\n"
          ]
        }
      ]
    },
    {
      "cell_type": "code",
      "source": [
        "print(\"hello\"+\"world\")\n",
        "print (\"hello\"*3)\n",
        "print (\"3\"+\"5\")"
      ],
      "metadata": {
        "colab": {
          "base_uri": "https://localhost:8080/"
        },
        "id": "Ywfld2vPWJPW",
        "outputId": "f6247241-38fd-4d06-8145-64096faec24f"
      },
      "execution_count": null,
      "outputs": [
        {
          "output_type": "stream",
          "name": "stdout",
          "text": [
            "helloworld\n",
            "hellohellohello\n",
            "35\n"
          ]
        }
      ]
    },
    {
      "cell_type": "markdown",
      "source": [
        "**형 변환 (Type Conversion)**\n",
        "\n",
        "파이썬에서 정수, 소수, 스트링 등의 자료형에서\n",
        "한 자료형에서 다른 자료형으로 변환하는 것"
      ],
      "metadata": {
        "id": "THoEoKn3XUYi"
      }
    },
    {
      "cell_type": "code",
      "source": [
        "print (int(3.8)) #소수형인 3.8을 정수형(int)로 바꿈\n",
        "print (float(3)) #정수형인 3을 소수형(float)로 바꿈\n",
        "print (int(\"2\")+int(\"5\")) #스트링을 int로 바꾸어서 연산\n",
        "print (float(\"1.1\")+float (\"2.5\")) #스트링을 float으로 바꾸어서 연산\n",
        "print (str(2)+str(5)) #정수형을 문자로 바꾸어서 연산"
      ],
      "metadata": {
        "colab": {
          "base_uri": "https://localhost:8080/"
        },
        "id": "wAGpcqSiXlao",
        "outputId": "72ec9fd3-8cac-4862-8bf8-50c1612cd2bd"
      },
      "execution_count": null,
      "outputs": [
        {
          "output_type": "stream",
          "name": "stdout",
          "text": [
            "3\n",
            "3.0\n",
            "7\n",
            "3.6\n"
          ]
        }
      ]
    },
    {
      "cell_type": "code",
      "source": [
        "age=7\n",
        "#print (\"제 나이는\"+age+\"살입니다.\") #이렇게 코드를 쓰면 오류 -> 문자열과 정수형 연결 불가\n",
        "print (\"제 나이는 \" + str(age)+\"살입니다.\") #이런식으로 string으로 바꾼 뒤 하면 문제 없음"
      ],
      "metadata": {
        "colab": {
          "base_uri": "https://localhost:8080/"
        },
        "id": "KpCFZpFDYazW",
        "outputId": "8d6aa355-c3f3-4e20-afa0-51e0ec2dbf83"
      },
      "execution_count": null,
      "outputs": [
        {
          "output_type": "stream",
          "name": "stdout",
          "text": [
            "제 나이는 7살입니다.\n"
          ]
        }
      ]
    },
    {
      "cell_type": "code",
      "source": [
        "#print(int(\"Hello world\"))\n",
        "#문자열인 Hello world는 소수로 바꿀 수 없기에 오류가 날 것\n",
        "#형 변환은 논리적 가능성 따지기 필요"
      ],
      "metadata": {
        "id": "ggowrLRnZA-V"
      },
      "execution_count": null,
      "outputs": []
    },
    {
      "cell_type": "markdown",
      "source": [
        "**format을 이용한 문자열 포매팅**"
      ],
      "metadata": {
        "id": "t6blavLhZ_6K"
      }
    },
    {
      "cell_type": "code",
      "source": [
        "# 오늘은 2019년 10월 29일입니다. #이것을 만드는 것이 목표라고 가정\n",
        "year =2019\n",
        "month = 10\n",
        "day = 29\n",
        "print (\"오늘은 \" + str(year)+\"년 \"+str(month)+\"월 \"+ str(day)+\"일입니다.\")"
      ],
      "metadata": {
        "colab": {
          "base_uri": "https://localhost:8080/"
        },
        "id": "dORPG6xTaHyU",
        "outputId": "810167ef-b1c7-4b3b-ee53-7c422cc4ab54"
      },
      "execution_count": null,
      "outputs": [
        {
          "output_type": "stream",
          "name": "stdout",
          "text": [
            "오늘은 2019년 10월 29일입니다.\n"
          ]
        }
      ]
    },
    {
      "cell_type": "code",
      "source": [
        "#위의 것이 맞지만, 번거롭기에 문자열 포매팅을 함\n",
        "#이번에는 format mathod라는 것\n",
        "print (\"오늘은 {}년 {}월 {}일입니다.\". format(year,month, day))"
      ],
      "metadata": {
        "colab": {
          "base_uri": "https://localhost:8080/"
        },
        "id": "tPi0MBZIbPYx",
        "outputId": "8b9d6321-ae7c-47d5-8c3a-7e93125dff63"
      },
      "execution_count": null,
      "outputs": [
        {
          "output_type": "stream",
          "name": "stdout",
          "text": [
            "오늘은 2019년 10월 29일입니다.\n"
          ]
        }
      ]
    },
    {
      "cell_type": "code",
      "source": [
        "#아예 스트링을 변수로 지정해서 간단히 할 수도 있음\n",
        "date_string = \"오늘은 {}년 {}월 {}일입니다.\"\n",
        "print (date_string. format(year,month, day))\n",
        "#하루 뒤를 하고 싶다면\n",
        "print (date_string. format(year,month, day+1))"
      ],
      "metadata": {
        "colab": {
          "base_uri": "https://localhost:8080/"
        },
        "id": "2UPiSqO6bd0M",
        "outputId": "deff7e64-1b28-469c-efdc-8c8ad8b37447"
      },
      "execution_count": null,
      "outputs": [
        {
          "output_type": "stream",
          "name": "stdout",
          "text": [
            "오늘은 2019년 10월 29일입니다.\n",
            "오늘은 2019년 10월 30일입니다.\n"
          ]
        }
      ]
    },
    {
      "cell_type": "code",
      "source": [
        "#format 다루기\n",
        "print (\"저는 {},{},{}를 좋아합니다!\". format(\"박지성\",\"유재석\",\"빌 게이츠\"))\n",
        "#순서를 바꾸기\n",
        "print (\"저는 {1},{0},{2}를 좋아합니다!\". format(\"박지성\",\"유재석\",\"빌 게이츠\"))"
      ],
      "metadata": {
        "colab": {
          "base_uri": "https://localhost:8080/"
        },
        "id": "XUqNjNfWcGrx",
        "outputId": "c11eca9f-81b0-449a-ed45-59b09f2776f5"
      },
      "execution_count": null,
      "outputs": [
        {
          "output_type": "stream",
          "name": "stdout",
          "text": [
            "저는 박지성,유재석,빌 게이츠를 좋아합니다!\n",
            "저는 유재석,박지성,빌 게이츠를 좋아합니다!\n"
          ]
        }
      ]
    },
    {
      "cell_type": "code",
      "source": [
        "num_1 = 1\n",
        "num_2 = 3\n",
        "print(\"{0} 나누기 {1}은 {2}입니다.\".format(num_1,num_2,num_1/num_2))\n",
        "#만약 {2}부분을 소수점 둘째자리수까지 나타내고 싶다면, 소수형을 의미하는 f와 소수점 둘째자리 의미하는 .2 넣기\n",
        "print(\"{0} 나누기 {1}은 {2:.2f}입니다.\".format(num_1,num_2,num_1/num_2))\n",
        "#그냥 정수로 나타내고 싶으면 0f 사용하면 된다.\n",
        "#만약 {2}부분을 소수점 둘째자리수까지 나타내고 싶다면, 소수형을 의미하는 f와 소수점 둘째자리 의미하는 .2 넣기\n",
        "print(\"{0} 나누기 {1}은 {2:.0f}입니다.\".format(num_1,num_2,num_1/num_2))"
      ],
      "metadata": {
        "colab": {
          "base_uri": "https://localhost:8080/"
        },
        "id": "Q8PA3tmVcyXD",
        "outputId": "70015e07-7fb8-4aae-8b06-18c5fdea9612"
      },
      "execution_count": null,
      "outputs": [
        {
          "output_type": "stream",
          "name": "stdout",
          "text": [
            "1 나누기 3은 0.3333333333333333입니다.\n",
            "1 나누기 3은 0.33입니다.\n",
            "1 나누기 3은 0입니다.\n"
          ]
        }
      ]
    },
    {
      "cell_type": "markdown",
      "source": [
        "**기타 문자열 포매팅**"
      ],
      "metadata": {
        "id": "BvyO-E37eVCF"
      }
    },
    {
      "cell_type": "code",
      "source": [
        "#가장 오래된 방식(% 기호)\n",
        "name = \"최지웅\"\n",
        "age = 32\n",
        "print(\"제 이름은 %s이고 %d살입니다.\" % (name, age))\n",
        "\n",
        "\n",
        "#새로운 방식 (f-string) #앞으로 많이 쓸 것으로 예상\n",
        "name = \"최지웅\"\n",
        "age = 32\n",
        "\n",
        "print(f\"제 이름은 {name}이고 {age}살입니다.\")"
      ],
      "metadata": {
        "colab": {
          "base_uri": "https://localhost:8080/"
        },
        "id": "WyjhDEK0egcv",
        "outputId": "06d2bb80-76c9-420e-95e7-9fedafebf6a1"
      },
      "execution_count": null,
      "outputs": [
        {
          "output_type": "stream",
          "name": "stdout",
          "text": [
            "제 이름은 최지웅이고 32살입니다.\n",
            "제 이름은 최지웅이고 32살입니다.\n"
          ]
        }
      ]
    },
    {
      "cell_type": "markdown",
      "source": [
        "**불 대수**\n",
        "\n",
        "숫자값이 아니라 불 대수의 값은 진리값 (true, false)\n",
        "\n",
        "and, or , not이 연산임.\n",
        "\n",
        "주요 개념: 명제 (참과 거짓을 구분할 수 있는 것)\n",
        "\n",
        "[and 연산]\n",
        "\n",
        "x와 y가 모두 참일 때는 x and y 는 참\n",
        "\n",
        "x와 y 중에서 하나라도 거짓이면  x and y 는 거짓\n",
        "\n",
        "[or 연산]\n",
        "\n",
        "x와 y가 하나라도 참이면 x or y는 참\n",
        "\n",
        "x와 y가 둘다 거짓일 때만 x or y 가 거짓\n",
        "\n",
        "[not 연산]\n",
        "\n",
        "거꾸로 만들어버리는 것\n",
        "\n",
        "예시: NOT 대한민국의 수도는 서울이다. -> 이것은 false"
      ],
      "metadata": {
        "id": "n8GdfOJWguni"
      }
    },
    {
      "cell_type": "markdown",
      "source": [
        "**불린형**"
      ],
      "metadata": {
        "id": "v59fBY6_iIdz"
      }
    },
    {
      "cell_type": "code",
      "source": [
        "print(True)\n",
        "print(False)\n",
        "#and\n",
        "print (True and True)\n",
        "print (True and False)\n",
        "print (False and True)\n",
        "print (False and False)\n",
        "#or\n",
        "print (True or True)\n",
        "print (True or False)\n",
        "print (False or True)\n",
        "print (False or False)\n",
        "#not\n",
        "print (not True)\n",
        "print (not False)"
      ],
      "metadata": {
        "colab": {
          "base_uri": "https://localhost:8080/"
        },
        "id": "CKd2YwimiL6b",
        "outputId": "1362f6d3-a811-4bde-9690-c9002ff93863"
      },
      "execution_count": null,
      "outputs": [
        {
          "output_type": "stream",
          "name": "stdout",
          "text": [
            "True\n",
            "False\n",
            "True\n",
            "False\n",
            "False\n",
            "False\n",
            "True\n",
            "True\n",
            "True\n",
            "False\n",
            "False\n",
            "True\n"
          ]
        }
      ]
    },
    {
      "cell_type": "code",
      "source": [
        "#숫자비교\n",
        "print (2>1)\n",
        "print (2<1)\n",
        "print (3>=2)\n",
        "print (3<=3)\n",
        "print (2==2) # ==는 같다는 뜻\n",
        "print (2!=2) #!=는 같지 않다는 뜻"
      ],
      "metadata": {
        "colab": {
          "base_uri": "https://localhost:8080/"
        },
        "id": "lXx5OTYei7x2",
        "outputId": "e476fe63-3821-4fce-b072-d30da85c771d"
      },
      "execution_count": null,
      "outputs": [
        {
          "output_type": "stream",
          "name": "stdout",
          "text": [
            "True\n",
            "False\n",
            "True\n",
            "True\n",
            "True\n",
            "False\n"
          ]
        }
      ]
    },
    {
      "cell_type": "code",
      "source": [
        "print (\"Hello\"==\"Hello\")\n",
        "print (\"Hello\"!=\"Hello\")"
      ],
      "metadata": {
        "colab": {
          "base_uri": "https://localhost:8080/"
        },
        "id": "So8GV7qNjYLg",
        "outputId": "6736c8df-be27-4b2c-e6fb-b1c218a4f9b0"
      },
      "execution_count": null,
      "outputs": [
        {
          "output_type": "stream",
          "name": "stdout",
          "text": [
            "True\n",
            "False\n"
          ]
        }
      ]
    },
    {
      "cell_type": "code",
      "source": [
        "print (2>1 and \"Hello\"==\"Hello\")\n",
        "print (not not True) #not False\n",
        "print (not not False) #not True"
      ],
      "metadata": {
        "colab": {
          "base_uri": "https://localhost:8080/"
        },
        "id": "cax8O6dgjkkL",
        "outputId": "275d216a-f89e-4e08-e255-7810de2a619c"
      },
      "execution_count": null,
      "outputs": [
        {
          "output_type": "stream",
          "name": "stdout",
          "text": [
            "True\n",
            "True\n",
            "False\n"
          ]
        }
      ]
    },
    {
      "cell_type": "code",
      "source": [
        "print (7==7 or (4<3 and 12>10))\n",
        "#괄호 안의 내용이 false이므로 #True or False 상황"
      ],
      "metadata": {
        "colab": {
          "base_uri": "https://localhost:8080/"
        },
        "id": "afIyKXLHj6X9",
        "outputId": "08dcb62b-a478-4776-b1c8-94ddcf186774"
      },
      "execution_count": null,
      "outputs": [
        {
          "output_type": "stream",
          "name": "stdout",
          "text": [
            "True\n"
          ]
        }
      ]
    },
    {
      "cell_type": "code",
      "source": [
        "x=3\n",
        "print (x>4 or not (x<2 or x==3))\n",
        "# false or not true -> 즉 false or false -> 결국 false 출력"
      ],
      "metadata": {
        "colab": {
          "base_uri": "https://localhost:8080/"
        },
        "id": "WZz9f7AKkQxh",
        "outputId": "72e0bddf-7dd0-4fae-a55b-c778807ba16a"
      },
      "execution_count": null,
      "outputs": [
        {
          "output_type": "stream",
          "name": "stdout",
          "text": [
            "False\n"
          ]
        }
      ]
    },
    {
      "cell_type": "markdown",
      "source": [
        "**type 함수**"
      ],
      "metadata": {
        "id": "o6EdB47kktvo"
      }
    },
    {
      "cell_type": "code",
      "source": [
        "print (type(3))\n",
        "print (type(3.0))\n",
        "print (type(\"3\"))"
      ],
      "metadata": {
        "colab": {
          "base_uri": "https://localhost:8080/"
        },
        "id": "KROFCe4UkwVQ",
        "outputId": "a73825bd-fc4f-42f5-e3dc-acc60012f0e1"
      },
      "execution_count": null,
      "outputs": [
        {
          "output_type": "stream",
          "name": "stdout",
          "text": [
            "<class 'int'>\n",
            "<class 'float'>\n",
            "<class 'str'>\n"
          ]
        }
      ]
    },
    {
      "cell_type": "code",
      "source": [
        "print (type(\"True\"))\n",
        "print (type(True))"
      ],
      "metadata": {
        "colab": {
          "base_uri": "https://localhost:8080/"
        },
        "id": "o5yYdIpik9HM",
        "outputId": "ea2d9f65-e6d8-406c-b33b-ba85ccee9482"
      },
      "execution_count": null,
      "outputs": [
        {
          "output_type": "stream",
          "name": "stdout",
          "text": [
            "<class 'str'>\n",
            "<class 'bool'>\n"
          ]
        }
      ]
    },
    {
      "cell_type": "code",
      "source": [
        "def hello():\n",
        "  print(\"Hello world!\")\n",
        "\n",
        "print (type(hello)) #위에서 함수로 정의 -> 함수는 일종의 자료형\n",
        "print (type(print)) #내장함수라는 뜻으로 'builtin_function_or_method'이라고 나옴\n"
      ],
      "metadata": {
        "colab": {
          "base_uri": "https://localhost:8080/"
        },
        "id": "u0hzrYtFlKtv",
        "outputId": "ed0f0cc5-8eeb-47a3-ef3c-977f9b4c91ab"
      },
      "execution_count": null,
      "outputs": [
        {
          "output_type": "stream",
          "name": "stdout",
          "text": [
            "<class 'function'>\n",
            "<class 'builtin_function_or_method'>\n"
          ]
        }
      ]
    }
  ]
}