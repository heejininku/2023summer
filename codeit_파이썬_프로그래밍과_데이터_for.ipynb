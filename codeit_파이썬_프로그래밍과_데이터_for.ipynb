{
  "nbformat": 4,
  "nbformat_minor": 0,
  "metadata": {
    "colab": {
      "provenance": [],
      "authorship_tag": "ABX9TyMQrdSxQRbAOKl2gjNeiPqx",
      "include_colab_link": true
    },
    "kernelspec": {
      "name": "python3",
      "display_name": "Python 3"
    },
    "language_info": {
      "name": "python"
    }
  },
  "cells": [
    {
      "cell_type": "markdown",
      "metadata": {
        "id": "view-in-github",
        "colab_type": "text"
      },
      "source": [
        "<a href=\"https://colab.research.google.com/github/heejininku/2023summer/blob/main/codeit_%ED%8C%8C%EC%9D%B4%EC%8D%AC_%ED%94%84%EB%A1%9C%EA%B7%B8%EB%9E%98%EB%B0%8D%EA%B3%BC_%EB%8D%B0%EC%9D%B4%ED%84%B0_for.ipynb\" target=\"_parent\"><img src=\"https://colab.research.google.com/assets/colab-badge.svg\" alt=\"Open In Colab\"/></a>"
      ]
    },
    {
      "cell_type": "markdown",
      "source": [
        "**for 반복문**"
      ],
      "metadata": {
        "id": "tnzw6wrKq7Z3"
      }
    },
    {
      "cell_type": "code",
      "execution_count": null,
      "metadata": {
        "colab": {
          "base_uri": "https://localhost:8080/"
        },
        "id": "lIkblpK-q4Cf",
        "outputId": "7e84d049-5978-4128-e597-9b276a30bc02"
      },
      "outputs": [
        {
          "output_type": "stream",
          "name": "stdout",
          "text": [
            "2\n",
            "3\n",
            "5\n",
            "7\n",
            "11\n"
          ]
        }
      ],
      "source": [
        "my_list = [2,3,5,7,11]\n",
        "\n",
        "for num in my_list:\n",
        "  print (num)"
      ]
    },
    {
      "cell_type": "markdown",
      "source": [
        "**range 함수**"
      ],
      "metadata": {
        "id": "QDKGYdTQrTtT"
      }
    },
    {
      "cell_type": "code",
      "source": [
        "# 파라미터 2개 버전\n",
        "for i in range (3,11): # 3부터 10까지의 범위 (11은 미포함! 기억하자.)\n",
        "  print(i)"
      ],
      "metadata": {
        "colab": {
          "base_uri": "https://localhost:8080/"
        },
        "id": "HuIM6PuHrXgj",
        "outputId": "bdab9933-9cf2-473d-94f3-871910a9face"
      },
      "execution_count": null,
      "outputs": [
        {
          "output_type": "stream",
          "name": "stdout",
          "text": [
            "3\n",
            "4\n",
            "5\n",
            "6\n",
            "7\n",
            "8\n",
            "9\n",
            "10\n"
          ]
        }
      ]
    },
    {
      "cell_type": "code",
      "source": [
        "# 파라미터 1개 버전\n",
        "for i in range (10): # 0부터 9까지의 범위\n",
        "  print (i)"
      ],
      "metadata": {
        "colab": {
          "base_uri": "https://localhost:8080/"
        },
        "id": "F0disQagruYE",
        "outputId": "712657b3-c8ee-4b7c-ca86-dc469195ce3b"
      },
      "execution_count": null,
      "outputs": [
        {
          "output_type": "stream",
          "name": "stdout",
          "text": [
            "0\n",
            "1\n",
            "2\n",
            "3\n",
            "4\n",
            "5\n",
            "6\n",
            "7\n",
            "8\n",
            "9\n"
          ]
        }
      ]
    },
    {
      "cell_type": "code",
      "source": [
        "# 파라미터 3개 버전\n",
        "for i in range(3,17,3): # 3부터 16까지이고, 간격(step)이 3임\n",
        "  print (i)"
      ],
      "metadata": {
        "colab": {
          "base_uri": "https://localhost:8080/"
        },
        "id": "vth-iKOZsXf0",
        "outputId": "06474842-cf16-451c-cb6a-7347ed4ab317"
      },
      "execution_count": null,
      "outputs": [
        {
          "output_type": "stream",
          "name": "stdout",
          "text": [
            "3\n",
            "6\n",
            "9\n",
            "12\n",
            "15\n"
          ]
        }
      ]
    },
    {
      "cell_type": "markdown",
      "source": [
        "range 함수의 장점\n",
        "\n",
        ": 간편함, 깔끔함, 메모리 효율성"
      ],
      "metadata": {
        "id": "K9lX7X3UtYsc"
      }
    },
    {
      "cell_type": "code",
      "source": [
        "#range 연습 예제\n",
        "numbers = [2, 3, 5, 7, 11, 13, 17, 19, 23, 29, 31]\n",
        "\n",
        "# 인덱스와 원소 출력\n",
        "for i in range (len(numbers)):\n",
        "    print (i, numbers[i])"
      ],
      "metadata": {
        "id": "bIGV5roRwb1T",
        "outputId": "df759cf3-0f1b-4504-d6f4-adab7bab3a49",
        "colab": {
          "base_uri": "https://localhost:8080/"
        }
      },
      "execution_count": null,
      "outputs": [
        {
          "output_type": "stream",
          "name": "stdout",
          "text": [
            "0 2\n",
            "1 3\n",
            "2 5\n",
            "3 7\n",
            "4 11\n",
            "5 13\n",
            "6 17\n",
            "7 19\n",
            "8 23\n",
            "9 29\n",
            "10 31\n"
          ]
        }
      ]
    },
    {
      "cell_type": "code",
      "source": [
        "# 거듭제곱 예제\n",
        "for i in range(11): # 0부터 10까지의 리스트\n",
        "    print (f\"2^{i}={2**i}\") # 문자열 포맷팅 f.string 이용"
      ],
      "metadata": {
        "colab": {
          "base_uri": "https://localhost:8080/"
        },
        "id": "5ziXuill6rN-",
        "outputId": "c8cc2830-a84c-48e4-9246-81a89523fea8"
      },
      "execution_count": null,
      "outputs": [
        {
          "output_type": "stream",
          "name": "stdout",
          "text": [
            "2^0=1\n",
            "2^1=2\n",
            "2^2=4\n",
            "2^3=8\n",
            "2^4=16\n",
            "2^5=32\n",
            "2^6=64\n",
            "2^7=128\n",
            "2^8=256\n",
            "2^9=512\n",
            "2^10=1024\n"
          ]
        }
      ]
    },
    {
      "cell_type": "code",
      "source": [
        "# for문으로 구구단\n",
        "for i in range (1,10):\n",
        "    for j in range (1,10):\n",
        "      print (f\"{i}*{j}={i*j}\")"
      ],
      "metadata": {
        "id": "ChujQJfM-2rZ"
      },
      "execution_count": null,
      "outputs": []
    },
    {
      "cell_type": "code",
      "source": [
        "# 피타고라스 삼조 예제\n",
        "# a<b<c 라고 가정할 때, a+b+c=400을 만족하는 피타고라스 삼조 (a,b,c)는 단 하나인데요. 이 경우, a∗b∗c는 얼마인가요?\n",
        "for a in range(1, 400):   # a의 범위는 1부터 399로 설정\n",
        "    for b in range(1, 400):   # b의 범위도 1부터 399로 설정\n",
        "        c = 400 - a - b   # 총합을 알고 있기에 c는 범위를 따로 구하지 않고 총합 400에서 나머지 a,b를 빼면 되는 것\n",
        "        if a * a + b * b == c * c and a < b < c:    # 조건 부여\n",
        "            print(a * b * c)"
      ],
      "metadata": {
        "colab": {
          "base_uri": "https://localhost:8080/"
        },
        "id": "hUhtS4qNiBl9",
        "outputId": "603aa86c-5d51-4070-c492-88ed829de34c"
      },
      "execution_count": null,
      "outputs": [
        {
          "output_type": "stream",
          "name": "stdout",
          "text": [
            "2040000\n"
          ]
        }
      ]
    },
    {
      "cell_type": "code",
      "source": [
        "# 리스트 뒤집기 예제\n",
        "# numbers라는 리스트가 주어졌을 때, for문을 사용하여 리스트를 거꾸로 뒤집어 보세요!\n",
        "\n",
        "# 방법 1) for문은 아니지만, sorted 함수를 이용해서 가장 간단하게 표현하는 방법\n",
        "numbers = [2, 3, 5, 7, 11, 13, 17, 19]\n",
        "# 리스트 뒤집기\n",
        "numbers = sorted(numbers, reverse = True)\n",
        "print(\"뒤집어진 리스트: \" + str(numbers))\n",
        "\n",
        "# 방법 2)\n",
        "numbers = [2, 3, 5, 7, 11, 13, 17, 19]\n",
        "\n",
        "# 리스트 뒤집기\n",
        "for left in range(len(numbers) // 2): # 오히려 다 돌게 되면 다시 리스트가 원상복귀되기에 절반만 돌아야 함\n",
        "    # 인덱스 left와 대칭인 인덱스 right 계산\n",
        "    right = len(numbers) - left - 1\n",
        "\n",
        "    # 위치 바꾸기\n",
        "    temp = numbers[left] # temp 에 left(원래 리스트) 일시저장\n",
        "    numbers[left] = numbers[right]\n",
        "    numbers[right] = temp\n",
        "\n",
        "print(\"뒤집어진 리스트: \" + str(numbers))\n",
        "\n",
        "# 방법 3)\n",
        "numbers = [2, 3, 5, 7, 11, 13, 17, 19]\n",
        "\n",
        "# 리스트 뒤집기\n",
        "for left in range(len(numbers) // 2):\n",
        "    # 인덱스 left와 대칭인 인덱스 right 계산\n",
        "    right = len(numbers) - left - 1\n",
        "\n",
        "    # 위치 바꾸기\n",
        "    numbers[right], numbers[left] = numbers[left], numbers[right]\n",
        "\n",
        "print(\"뒤집어진 리스트: \" + str(numbers))"
      ],
      "metadata": {
        "colab": {
          "base_uri": "https://localhost:8080/"
        },
        "id": "DZ0loRYik91R",
        "outputId": "1bbcdac3-dd27-4a4c-d3d0-c5fe470000b0"
      },
      "execution_count": null,
      "outputs": [
        {
          "output_type": "stream",
          "name": "stdout",
          "text": [
            "뒤집어진 리스트: [19, 17, 13, 11, 7, 5, 3, 2]\n",
            "뒤집어진 리스트: [19, 17, 13, 11, 7, 5, 3, 2]\n",
            "뒤집어진 리스트: [19, 17, 13, 11, 7, 5, 3, 2]\n"
          ]
        }
      ]
    },
    {
      "cell_type": "code",
      "source": [
        "#예제 - 자리수 합 구하기\n",
        "\n",
        "# 자리수 합 리턴\n",
        "def sum_digit(num): # 자릿수 합 함수 정의\n",
        "    total = 0  # 자릿수 합 보관하는 변수 total\n",
        "    str_num = str(num) # 정수형 num을 문자열로 변화\n",
        "    for digit in str_num: # 문자열에서 반복적으로 각 자릿수를 받음\n",
        "      total += int(digit) #토탈 변수 0에 문자열의 각 자릿수들을 하나씩 더한다.\n",
        "    return total #반복이 끝나면 total 리턴\n",
        "\n",
        "# sum_digit(1)부터 sum_digit(1000)까지의 합 구하기\n",
        "digit_total = 0\n",
        "for i in range(1, 1001):\n",
        "    digit_total += sum_digit(i)\n",
        "\n",
        "print(digit_total)"
      ],
      "metadata": {
        "id": "q6Auje4_7eD-"
      },
      "execution_count": null,
      "outputs": []
    }
  ]
}