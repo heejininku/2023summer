{
  "nbformat": 4,
  "nbformat_minor": 0,
  "metadata": {
    "colab": {
      "provenance": [],
      "authorship_tag": "ABX9TyPPwJdCKe4m3CoONKVgL/+3",
      "include_colab_link": true
    },
    "kernelspec": {
      "name": "python3",
      "display_name": "Python 3"
    },
    "language_info": {
      "name": "python"
    }
  },
  "cells": [
    {
      "cell_type": "markdown",
      "metadata": {
        "id": "view-in-github",
        "colab_type": "text"
      },
      "source": [
        "<a href=\"https://colab.research.google.com/github/heejininku/2023summer/blob/main/codeit_%ED%8C%8C%EC%9D%B4%EC%8D%AC_%ED%95%B5%EC%8B%AC%EA%B0%9C%EB%85%90_%EC%A0%9C%EC%96%B4%EB%AC%B8.ipynb\" target=\"_parent\"><img src=\"https://colab.research.google.com/assets/colab-badge.svg\" alt=\"Open In Colab\"/></a>"
      ]
    },
    {
      "cell_type": "markdown",
      "source": [
        "**while문**\n",
        "\n",
        " 조건 부분: (조건 부분은 면제 형태로 쓰는데, 여기서 명제가 true이면 수행 부분을 계속해서 실행하고, false인 경우에는 수행 부분이 실행 되지 않음.)\n",
        "\n",
        "  수행부분 (들여쓰기 필수)"
      ],
      "metadata": {
        "id": "Lpi_8RYczf-K"
      }
    },
    {
      "cell_type": "code",
      "execution_count": null,
      "metadata": {
        "colab": {
          "base_uri": "https://localhost:8080/"
        },
        "id": "O2422UXhy3A6",
        "outputId": "ff51c108-6cfc-4c96-9bfb-b30488cc17f1"
      },
      "outputs": [
        {
          "output_type": "stream",
          "name": "stdout",
          "text": [
            "나는 잘생겼다!\n",
            "나는 잘생겼다!\n",
            "나는 잘생겼다!\n"
          ]
        }
      ],
      "source": [
        "#나는 잘생겼다! 를 3번 반복해서 쓰고 싶은 경우\n",
        "i =1\n",
        "while i <= 3:\n",
        "  print(\"나는 잘생겼다!\")\n",
        "  i += 1"
      ]
    },
    {
      "cell_type": "code",
      "source": [
        "#while 반복문 실습\n",
        "#2이상 100 이하의 짝수만 출력하기\n",
        "i = 2\n",
        "while (i%2==0) and (i<=100):\n",
        "    print (i)\n",
        "    i += 2 #여기를 짝수만 반복할 수 있도록 2씩 커지게 한다는 것 기억"
      ],
      "metadata": {
        "id": "fIOC2xw32xD6"
      },
      "execution_count": null,
      "outputs": []
    },
    {
      "cell_type": "code",
      "source": [
        "#while문을 사용하여, 100 이상의 자연수 중 가장 작은 23의 배수를 출력해 보세요.\n",
        "i = 100\n",
        "while i % 23 != 0:\n",
        "    i += 1 # i가 115가 된다면, 23의 배수이므로, 반복하지 않고 멈춤. 따라서 i가 115\n",
        "print (i)"
      ],
      "metadata": {
        "colab": {
          "base_uri": "https://localhost:8080/"
        },
        "id": "VwlyH86n6lnF",
        "outputId": "ef930ff6-c375-42f8-f3d5-ea9495414792"
      },
      "execution_count": null,
      "outputs": [
        {
          "output_type": "stream",
          "name": "stdout",
          "text": [
            "115\n"
          ]
        }
      ]
    },
    {
      "cell_type": "markdown",
      "source": [
        "**If문 (반대는 else문)**\n",
        "\n",
        "if 조건 부분: (조건은 불린 값으로 계산되는 식 (while과 같음))\n",
        "\n",
        "   수행 부분 (들여쓰기 필수)"
      ],
      "metadata": {
        "id": "voD545Cv7HN2"
      }
    },
    {
      "cell_type": "code",
      "source": [
        "#10도 이하이면 자켓 입고, 10도 이상이면 자켓 입지 않는 상황\n",
        "temperature = 16\n",
        "if temperature <= 10:\n",
        "  print (\"자켓을 입는다.\")\n",
        "else:\n",
        "  print (\"자켓을 입지 않는다.\")"
      ],
      "metadata": {
        "colab": {
          "base_uri": "https://localhost:8080/"
        },
        "id": "XaFE7S6m70tB",
        "outputId": "0cef2224-c139-4176-d7c5-52ca3534b14a"
      },
      "execution_count": null,
      "outputs": [
        {
          "output_type": "stream",
          "name": "stdout",
          "text": [
            "자켓을 입지 않는다.\n"
          ]
        }
      ]
    },
    {
      "cell_type": "markdown",
      "source": [
        "**elif문**\n",
        "\n",
        "else 문 아래에 if를 넣어줄 수 있음.\n",
        "\n",
        "예시\n",
        "\n",
        "온도 13도\n",
        "\n",
        "if 온도가 10도 이하다:\n",
        "\n",
        "자켓을 입는다\n",
        "\n",
        "else:\n",
        "\n",
        "if 온도가 15도 이하다:\n",
        "\n",
        "긴팔을 입는다\n",
        "\n",
        "else:\n",
        "\n",
        "반팔을 입는다\n",
        "\n",
        "다만, 이렇게 쓰면 복잡하기에\n",
        "else와 if를 합친 elif문을 쓸 수 있음"
      ],
      "metadata": {
        "id": "28odS-Z68Nmx"
      }
    },
    {
      "cell_type": "code",
      "source": [
        "#학점계산기\n",
        "def print_grade(midterm_score, final_score):\n",
        "    total = midterm_score + final_score\n",
        "    if total >= 90:\n",
        "        print (\"A\")\n",
        "    elif total >= 80:\n",
        "        print (\"B\")\n",
        "    elif total >= 70:\n",
        "        print (\"C\")\n",
        "    elif total >= 60:\n",
        "        print (\"D\")\n",
        "    else:\n",
        "        print (\"F\")\n",
        "# 테스트 코드\n",
        "print_grade(40, 45)\n",
        "print_grade(20, 35)\n",
        "print_grade(30, 32)\n",
        "print_grade(50, 45)"
      ],
      "metadata": {
        "colab": {
          "base_uri": "https://localhost:8080/"
        },
        "id": "DHp6E63V_UgW",
        "outputId": "136437ce-eb94-4702-bf71-f4ad874a1d72"
      },
      "execution_count": null,
      "outputs": [
        {
          "output_type": "stream",
          "name": "stdout",
          "text": [
            "B\n",
            "F\n",
            "D\n",
            "A\n"
          ]
        }
      ]
    },
    {
      "cell_type": "code",
      "source": [
        "# 이상한 수학 문제1\n",
        "# while문과 if문을 활용하여, 100 이하의 자연수 중 8의 배수이지만 12의 배수는 아닌 것을 모두 출력하세요.\n",
        "# 예를 들어서 16은 8의 배수이지만 12의 배수가 아니니까 조건에 부합합니다. 하지만 48은 8의 배수이면서 12의 배수이기도 해서 조건에 부합하지 않습니다.\n",
        "i = 1\n",
        "while i <= 100 :\n",
        "    if i%8==0 and i %12!=0:\n",
        "       print (i)\n",
        "    i+= 1"
      ],
      "metadata": {
        "colab": {
          "base_uri": "https://localhost:8080/"
        },
        "id": "AaNzc6yC_d3S",
        "outputId": "e6b5fdab-b4dd-4b22-e9c9-0fa4dc21bbac"
      },
      "execution_count": null,
      "outputs": [
        {
          "output_type": "stream",
          "name": "stdout",
          "text": [
            "8\n",
            "16\n",
            "32\n",
            "40\n",
            "56\n",
            "64\n",
            "80\n",
            "88\n"
          ]
        }
      ]
    },
    {
      "cell_type": "code",
      "source": [
        "# 이상한 수학 문제2\n",
        "# 10보다 작은 2 또는 3의 배수는 2, 3, 4, 6, 8, 9이며, 이들의 합은 32입니다.\n",
        "# while문과 if문을 활용하여, 1,000보다 작은 자연수 중 2 또는 3의 배수의 합을 출력하는 코드를 작성해 보세요.\n",
        "\n",
        "\n",
        "i = 1\n",
        "total = 0 # total이라는 이름으로 합을 저장해주는 변수 마련\n",
        "\n",
        "while i < 1000:\n",
        "    if i % 2 == 0 or i % 3 == 0: # 조건 설정\n",
        "        total += i # 이 말은 total = total + i 라는 말이었음.\n",
        "    i += 1 # while 반복문\n",
        "\n",
        "print(total)"
      ],
      "metadata": {
        "colab": {
          "base_uri": "https://localhost:8080/"
        },
        "id": "uw4n3L32HsYl",
        "outputId": "b5f3b6cf-6af4-4fb9-93c3-78fd61f5c479"
      },
      "execution_count": null,
      "outputs": [
        {
          "output_type": "stream",
          "name": "stdout",
          "text": [
            "333167\n"
          ]
        }
      ]
    },
    {
      "cell_type": "code",
      "source": [
        "# 정수 120의 약수를 모두 출력하고, 총 몇개의 약수가 있는지 출력하는 코드를 작성해 보세요.\n",
        "# 정수 120의 약수: 120을 해당 숫자로 나누었을 때에 나누어 떨어지게 하는 것\n",
        "n =120\n",
        "i =1\n",
        "count = 0\n",
        "\n",
        "while i <= n:\n",
        "# i가 n(120) 보다 작거나 같으면 계속 반복해서 실행하겠다라는 명령입니다\n",
        "  if n % i == 0:\n",
        "  # n을 i로 나눴을때 나머지가 0이면 참이고 0이 아니면 거짓! 참이면 아래 명령을 실행 거짓이면 실행하지 않음\n",
        "    print(i) # i가 n의 약수인 경우 print 로 표시\n",
        "    count += 1 #i가 n의 약수인 경우 현재의 count에 1을 더한다\n",
        "  i += 1 # i를 1씩 증가하며 반복문을 실행한다\n",
        "\n",
        "print (f\"120의 약수는 총 {count}개입니다.\" )"
      ],
      "metadata": {
        "colab": {
          "base_uri": "https://localhost:8080/"
        },
        "id": "yv3P6SN0WPdH",
        "outputId": "9f2cb0de-f01b-4ecc-e275-0d267e39bd8d"
      },
      "execution_count": null,
      "outputs": [
        {
          "output_type": "stream",
          "name": "stdout",
          "text": [
            "1\n",
            "2\n",
            "3\n",
            "4\n",
            "5\n",
            "6\n",
            "8\n",
            "10\n",
            "12\n",
            "15\n",
            "20\n",
            "24\n",
            "30\n",
            "40\n",
            "60\n",
            "120\n",
            "120의 약수는 총 16개입니다.\n"
          ]
        }
      ]
    },
    {
      "cell_type": "code",
      "source": [
        "#택이의 우승 상금\n",
        "\n",
        "APARTMENT = 1100000000\n",
        "RATE = 0.12\n",
        "\n",
        "bank = 50000000\n",
        "Year = 1988\n",
        "\n",
        "\n",
        "while Year < 2016 :\n",
        "  bank = bank*(1+RATE)\n",
        "  Year += 1\n",
        "\n",
        "if APARTMENT > bank :\n",
        "    print (\"{0:.0f}원 차이로 미란 아주머니 말씀이 맞습니다.\".format(APARTMENT-bank) )\n",
        "else:\n",
        "    print (\"{0:.0f}원 차이로 동일 아저씨 말씀이 맞습니다.\".format(bank-APARTMENT))"
      ],
      "metadata": {
        "id": "caJ_K420V7wO",
        "colab": {
          "base_uri": "https://localhost:8080/"
        },
        "outputId": "23ba7b58-cae5-44ca-8ddb-245d44504001"
      },
      "execution_count": null,
      "outputs": [
        {
          "output_type": "stream",
          "name": "stdout",
          "text": [
            "94193324원 차이로 동일 아저씨 말씀이 맞습니다.\n"
          ]
        }
      ]
    },
    {
      "cell_type": "code",
      "source": [
        "# 피보나치 수열 (연습하면서 여러번 이해해보자..!)\n",
        "# 피보나치 수열의 첫 50개 항을 차례대로 출력하는 코드\n",
        "i = 1\n",
        "previous = 0\n",
        "current = 1\n",
        "\n",
        "while  i <= 50:\n",
        "  print (current)\n",
        "  temp = previous  # previous를 임시 보관소 temp에 저장\n",
        "  previous = current\n",
        "  current = current + temp  # temp에는 기존 previous 값이 저장돼 있음\n",
        "  i += 1"
      ],
      "metadata": {
        "colab": {
          "base_uri": "https://localhost:8080/"
        },
        "id": "AQK8AQiRcB5j",
        "outputId": "8bc4b168-5a2c-46c1-d636-18ecd6c9c433"
      },
      "execution_count": null,
      "outputs": [
        {
          "output_type": "stream",
          "name": "stdout",
          "text": [
            "1\n",
            "1\n",
            "2\n",
            "3\n",
            "5\n",
            "8\n",
            "13\n",
            "21\n",
            "34\n",
            "55\n",
            "89\n",
            "144\n",
            "233\n",
            "377\n",
            "610\n",
            "987\n",
            "1597\n",
            "2584\n",
            "4181\n",
            "6765\n",
            "10946\n",
            "17711\n",
            "28657\n",
            "46368\n",
            "75025\n",
            "121393\n",
            "196418\n",
            "317811\n",
            "514229\n",
            "832040\n",
            "1346269\n",
            "2178309\n",
            "3524578\n",
            "5702887\n",
            "9227465\n",
            "14930352\n",
            "24157817\n",
            "39088169\n",
            "63245986\n",
            "102334155\n",
            "165580141\n",
            "267914296\n",
            "433494437\n",
            "701408733\n",
            "1134903170\n",
            "1836311903\n",
            "2971215073\n",
            "4807526976\n",
            "7778742049\n",
            "12586269025\n"
          ]
        }
      ]
    },
    {
      "cell_type": "code",
      "source": [
        "# 구구단 만들기 (중첩 while)\n",
        "i = 1\n",
        "while i <= 9:\n",
        "    j = 1\n",
        "    while j <= 9:\n",
        "        print (f\"{i}*{j}= {i*j}\")\n",
        "        j += 1\n",
        "    i += 1"
      ],
      "metadata": {
        "colab": {
          "base_uri": "https://localhost:8080/"
        },
        "id": "iwDCrhlecJfe",
        "outputId": "01ec8843-569d-4b52-e667-c53d149d2017"
      },
      "execution_count": null,
      "outputs": [
        {
          "output_type": "stream",
          "name": "stdout",
          "text": [
            "1*1= 1\n",
            "1*2= 2\n",
            "1*3= 3\n",
            "1*4= 4\n",
            "1*5= 5\n",
            "1*6= 6\n",
            "1*7= 7\n",
            "1*8= 8\n",
            "1*9= 9\n",
            "2*1= 2\n",
            "2*2= 4\n",
            "2*3= 6\n",
            "2*4= 8\n",
            "2*5= 10\n",
            "2*6= 12\n",
            "2*7= 14\n",
            "2*8= 16\n",
            "2*9= 18\n",
            "3*1= 3\n",
            "3*2= 6\n",
            "3*3= 9\n",
            "3*4= 12\n",
            "3*5= 15\n",
            "3*6= 18\n",
            "3*7= 21\n",
            "3*8= 24\n",
            "3*9= 27\n",
            "4*1= 4\n",
            "4*2= 8\n",
            "4*3= 12\n",
            "4*4= 16\n",
            "4*5= 20\n",
            "4*6= 24\n",
            "4*7= 28\n",
            "4*8= 32\n",
            "4*9= 36\n",
            "5*1= 5\n",
            "5*2= 10\n",
            "5*3= 15\n",
            "5*4= 20\n",
            "5*5= 25\n",
            "5*6= 30\n",
            "5*7= 35\n",
            "5*8= 40\n",
            "5*9= 45\n",
            "6*1= 6\n",
            "6*2= 12\n",
            "6*3= 18\n",
            "6*4= 24\n",
            "6*5= 30\n",
            "6*6= 36\n",
            "6*7= 42\n",
            "6*8= 48\n",
            "6*9= 54\n",
            "7*1= 7\n",
            "7*2= 14\n",
            "7*3= 21\n",
            "7*4= 28\n",
            "7*5= 35\n",
            "7*6= 42\n",
            "7*7= 49\n",
            "7*8= 56\n",
            "7*9= 63\n",
            "8*1= 8\n",
            "8*2= 16\n",
            "8*3= 24\n",
            "8*4= 32\n",
            "8*5= 40\n",
            "8*6= 48\n",
            "8*7= 56\n",
            "8*8= 64\n",
            "8*9= 72\n",
            "9*1= 9\n",
            "9*2= 18\n",
            "9*3= 27\n",
            "9*4= 36\n",
            "9*5= 45\n",
            "9*6= 54\n",
            "9*7= 63\n",
            "9*8= 72\n",
            "9*9= 81\n"
          ]
        }
      ]
    },
    {
      "cell_type": "markdown",
      "source": [
        "**break문**\n",
        "\n",
        "만약 while문의 조건 부분과 상관없이 반복문에서 나오고 싶으면, break문을 사용하면 됩니다.\n",
        "\n",
        "    i = 100\n",
        "\n",
        "    while True:\n",
        "    # i가 23의 배수면 반복문을 끝냄\n",
        "    if i % 23 == 0:\n",
        "        break\n",
        "    i = i + 1\n",
        "\n",
        "    print(i)\n",
        "    콘솔 값: 115\n",
        "\n",
        "**continue문**\n",
        "\n",
        "현재 진행되고 있는 작동 부분을 중단하고 바로 조건 부분을 확인하고 싶으면 continue문을 쓰면 됩니다.\n",
        "\n",
        "    i = 0\n",
        "\n",
        "    while i < 15:\n",
        "    i = i + 1\n",
        "\n",
        "    # i가 홀수면 print(i)하지 않고 바로 조건 부분으로 돌아감\n",
        "    if i % 2 == 1:\n",
        "        continue\n",
        "    print(i)\n",
        "    콘솔 값: 2 4 6 8 10 12 14\n"
      ],
      "metadata": {
        "id": "zyWUpps_efLX"
      }
    }
  ]
}