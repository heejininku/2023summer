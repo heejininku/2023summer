{
  "cells": [
    {
      "cell_type": "markdown",
      "metadata": {
        "id": "view-in-github",
        "colab_type": "text"
      },
      "source": [
        "<a href=\"https://colab.research.google.com/github/heejininku/2023summer/blob/main/codeit_%ED%8C%8C%EC%9D%B4%EC%8D%AC_%EC%9D%91%EC%9A%A9%ED%95%98%EA%B8%B0.ipynb\" target=\"_parent\"><img src=\"https://colab.research.google.com/assets/colab-badge.svg\" alt=\"Open In Colab\"/></a>"
      ]
    },
    {
      "cell_type": "code",
      "execution_count": null,
      "metadata": {
        "colab": {
          "base_uri": "https://localhost:8080/"
        },
        "id": "pzuP7i4uF5sp",
        "outputId": "b3aa3d70-8ecd-45ed-be2c-c1091e245625"
      },
      "outputs": [
        {
          "name": "stdout",
          "output_type": "stream",
          "text": [
            "기회가 4번 남았습니다. 1-20 사이의 숫자를 맞혀 보세요:3\n",
            "up\n",
            "기회가 3번 남았습니다. 1-20 사이의 숫자를 맞혀 보세요:6\n",
            "down\n",
            "기회가 2번 남았습니다. 1-20 사이의 숫자를 맞혀 보세요:5\n",
            "축하합니다. 3번 만에 숫자를 맞히셨습니다.\n"
          ]
        }
      ],
      "source": [
        "# 예제 - 숫자 맞히기 게임\n",
        "# 다른 풀이법 자세히 더 살펴보기\n",
        "import random\n",
        "correct = random.randint(1, 20)\n",
        "a = 4\n",
        "while a > 0:\n",
        "  number = int (input (f\"기회가 {a}번 남았습니다. 1-20 사이의 숫자를 맞혀 보세요:\"))\n",
        "  if number == correct:\n",
        "    print (f\"축하합니다. {5-a}번 만에 숫자를 맞히셨습니다.\")\n",
        "    break # 정답을 맞추면 종료\n",
        "  elif number > correct:\n",
        "    print (\"down\")\n",
        "    a -= 1\n",
        "  elif number < correct:\n",
        "    print (\"up\")\n",
        "    a -= 1\n",
        "  if a == 0:\n",
        "    print (f\"아쉽습니다. 정답은 {correct}입니다.\")"
      ]
    },
    {
      "cell_type": "code",
      "execution_count": null,
      "metadata": {
        "id": "eaaE7E9luaN9"
      },
      "outputs": [],
      "source": [
        "import random\n",
        "\n",
        "# 상수 정의\n",
        "ANSWER = random.randint(1, 20)\n",
        "NUM_TRIES = 4\n",
        "\n",
        "# 변수 정의\n",
        "guess = -1\n",
        "tries = 0\n",
        "\n",
        "while guess != ANSWER and tries < NUM_TRIES:\n",
        "    guess = int(input(\"기회가 {}번 남았습니다. 1-20 사이의 숫자를 맞혀 보세요: \".format(NUM_TRIES - tries)))\n",
        "    tries += 1\n",
        "\n",
        "    if ANSWER > guess:\n",
        "        print(\"Up\")\n",
        "    elif ANSWER < guess:\n",
        "        print(\"Down\")\n",
        "\n",
        "if guess == ANSWER:\n",
        "    print(\"축하합니다. {}번 만에 숫자를 맞히셨습니다.\".format(tries))\n",
        "else:\n",
        "    print(\"아쉽습니다. 정답은 {}입니다.\".format(ANSWER))\n"
      ]
    },
    {
      "cell_type": "markdown",
      "metadata": {
        "id": "JpdybhE9Lo9g"
      },
      "source": [
        "\n",
        "\n",
        "**파일 읽기, strip, split에 대한 것은 파이참에서 해보고 아래에 텍스트로 정리함.**"
      ]
    },
    {
      "cell_type": "markdown",
      "metadata": {
        "id": "R8CrFEfUe9zJ"
      },
      "source": [
        "**파일읽기**"
      ]
    },
    {
      "cell_type": "markdown",
      "metadata": {
        "id": "M140xv_feO7c"
      },
      "source": [
        "`with open('data/chicken.txt', 'r') as f:`\n",
        "\n",
        "open은 파일을 열어주는 역할이고, r 이라는 것은 read의 약자\n",
        "커다란 의미에서 같은 파일 내에 있을 때에는 그냥 chicken.txt 라고 해도 되지만,\n",
        "만약 다른 파일에 있을 떄에는 지금처럼 data/ ~ 이런식으로 파일 이름을\n",
        "알려줘야 함.\n",
        "\n",
        "    `print (type(f))`\n",
        "\n",
        "리스트도 아닌 형태이지만, for문을 쓰면 거의 리스트와 비슷하게 사용 가능\n",
        "\n",
        "  `  for line in f:`\n",
        "       \n",
        "`print(line) `\n",
        "        \n",
        "각 줄을 출력하는 것\n",
        "\n",
        "한 줄씩 순서대로 변수 line에 지정되는 것임.(그러다가 마지막까지 돌면 for 반복문 끝)\n",
        "\n",
        "그런데 지금 이것을 보면 한 줄싹 띄어서 나옴을 알 수 있음. 이유는 파이썬의 print문은 기본적으로 엔터를 한 번 치고,또 뒤에 /n이 있다고 판단해서 또 띄어쓰기 때문임.\n"
      ]
    },
    {
      "cell_type": "markdown",
      "metadata": {
        "id": "CCNoU-DHfKK0"
      },
      "source": [
        "**빈줄 처리 방법 strip**\n"
      ]
    },
    {
      "cell_type": "markdown",
      "metadata": {
        "id": "oqGFWxWEenbq"
      },
      "source": [
        "\n",
        "의미: 문자열 앞뒤로 있는 화이트 스페이스(\" \",\"\\t\", \"\\n\")를 없애준다.\n",
        "\n",
        "`print (\"       abc     def     \".strip())`\n",
        "\n",
        "\n",
        "결과값 보면 중간에 있는 스페이스만 남음\n",
        "\n",
        "\n",
        "```\n",
        "with open('data/chicken.txt', 'r') as f:\n",
        "    for line in f:\n",
        "        print(line.strip())\n",
        "```\n",
        "\n",
        "\n",
        "\n",
        "\n",
        "  \n",
        "외부 파일이나 자료 분석을 할 때에 자주 쓰는 strip\n"
      ]
    },
    {
      "cell_type": "markdown",
      "metadata": {
        "id": "nknHZmJ7fMRd"
      },
      "source": [
        "**split**"
      ]
    },
    {
      "cell_type": "code",
      "execution_count": null,
      "metadata": {
        "colab": {
          "base_uri": "https://localhost:8080/"
        },
        "id": "Ad6ZMAf3fQHz",
        "outputId": "c294fc4b-d40f-4fef-ced0-4d39a61481ed"
      },
      "outputs": [
        {
          "name": "stdout",
          "output_type": "stream",
          "text": [
            "['1', '2', '3', '4', '5', '6']\n",
            "['kim', 'Yuna']\n",
            "Yuna kim\n",
            "['2', '3', '5', '7', '11']\n",
            "23\n",
            "5\n"
          ]
        }
      ],
      "source": [
        "# split\n",
        "my_string = \"1. 2. 3. 4. 5. 6\"\n",
        "print(my_string.split(\". \"))\n",
        "# 결과를 보면 리스트가 나오는데 split은 입력으로 준 파라미터를 기준으로 문자열을 나누는 것임\n",
        "# 문자열에 있는 띄어쓰기를 제거하는 방법 (strip 말고 더 간단한 방법을 쓸 수 있음 \".\" 이라고 쓰지 말고\n",
        "# \". \" (점 띄어쓰기)로 바꾸는 것임.\n",
        "\n",
        "full_name = \"kim, Yuna\"\n",
        "print (full_name.split(\", \"))\n",
        "# split 한 것을 사용해보는 경우도 있음\n",
        "name_data = full_name.split(\", \")\n",
        "last_name = name_data[0]\n",
        "first_name = name_data[1]\n",
        "\n",
        "print(first_name, last_name)"
      ]
    },
    {
      "cell_type": "code",
      "execution_count": null,
      "metadata": {
        "colab": {
          "background_save": true,
          "base_uri": "https://localhost:8080/"
        },
        "id": "9rYq4c--j9Mv",
        "outputId": "b5eb74c2-032a-4991-8a1e-6039668a668e"
      },
      "outputs": [
        {
          "name": "stdout",
          "output_type": "stream",
          "text": [
            "['2', '3', '5', '7', '11']\n",
            "23\n",
            "5\n"
          ]
        }
      ],
      "source": [
        "# 다른 상황\n",
        "\n",
        "print(\"     \\n\\n   2  \\t  3 \\n   5 7 11  \\n\\n\".split())\n",
        "# 화이트 스페이스를 기준으로 나누고 싶으면, .split()을 하고 파라미터를 안 넘겨주면 된다.\n",
        "\n",
        "# 여기서 만들어진 리스트에서 숫자들을 사용하고 싶을 떄\\\n",
        "numbers = \"     \\n\\n   2  \\t  3 \\n   5 7 11  \\n\\n\".split()\n",
        "print(numbers[0] + numbers[1])\n",
        "# 지금은 문자열 리스트이기에 23이 나옴.\n",
        "print(int(numbers[0]) + int(numbers[1]))\n",
        "# 따라서 위처럼 정수로 형 변환을 해주면 된다."
      ]
    },
    {
      "cell_type": "code",
      "source": [
        "#코딩에 빠진 닭\n",
        "# 파일 불러오기\n",
        "    total_revenue = 0 # 총 매출을 누적으로 보관하는 변수\n",
        "    total_days = 0 # 총 일수를 누적으로 보관하는 변수\n",
        "\n",
        "    for line in f:  # 각 라인 별로 for문 써서\n",
        "        strip_data = line.strip() # strip 해주기 -> 화이트 스페이스 제거\n",
        "        split_data = strip_data .split(\":\") # :를 기준으로 해서 나누기\n",
        "        # 혹은 한번에  split_data = line.strip().split(\": \")\n",
        "        revenue = int(split_data[1]) # 그날의 매출\n",
        "\n",
        "        total_revenue += revenue\n",
        "        total_days += 1\n",
        "\n",
        "    print (total_revenue / total_days) #  평균 일매출 출력 (총 매출 / 총 일수)"
      ],
      "metadata": {
        "id": "kA-8_SE8SjCh"
      },
      "execution_count": null,
      "outputs": []
    },
    {
      "cell_type": "code",
      "source": [
        "# 파일 쓰기\n",
        "with open ('new_file.txt', 'w') as f: # 파일 이름 넣기\n",
        "    f. write (\"Hello world!\\n\") # \\n은 줄 바꿈을 위한 것\n",
        "    f. write (\"My name is Codeit.\\n\")\n",
        "    #  여기까지 하면 우리가 만든 파일이 옆에 생성되었고 내부에 우리가 쓴 글도 나옴\n",
        "\n",
        "# 만약 수정을 덮어쓰는 것이 아니라 새롭게 추가하고 싶다면?\n",
        "# 위에서 w를 쓰는 대신에 a (append)를 쓴다.\n",
        "# with open ('new_file.txt', 'a') as f:\n",
        "\n",
        "#'a'는 기존에 해당 파일이 없을 경우에 만들고, 해당 파일이 있다면 추가함.\n",
        "# 즉, 파일이 없어도 w 대신 a 사용 가능"
      ],
      "metadata": {
        "id": "GOx9evJPVhKK"
      },
      "execution_count": null,
      "outputs": []
    },
    {
      "cell_type": "code",
      "source": [
        "# 단어장 만들기 예제 (모범답안)\n",
        "\n",
        "with open('vocabulary.txt', 'w') as f: # 파일 만들기\n",
        "    while True: # 무한 반복을 의미\n",
        "        english_word = input('영어 단어를 입력하세요: ')    # input 먼저 설정\n",
        "        if english_word == 'q':\n",
        "            break\n",
        "\n",
        "        korean_word = input('한국어 뜻을 입력하세요: ')     # input 먼저 설정\n",
        "        if korean_word == 'q':\n",
        "            break\n",
        "\n",
        "        f.write('{}: {}\\n'.format(english_word, korean_word)) # 파일 쓰는 부분, 이때 띄어쓰기도 처리"
      ],
      "metadata": {
        "id": "c-a29w2RZW99"
      },
      "execution_count": null,
      "outputs": []
    },
    {
      "cell_type": "code",
      "source": [
        "# 단어장 만들기 예제 (나의 답안)\n",
        "with open ('vocabulary..txt', 'a') as f: # 파일 이름 넣기\n",
        "while voca == q or voca ==q :\n",
        "f. write (input (f\"영어 단어를 입력하세요: {voca} \\n\"))\n",
        "f. write (input (f\"한국어 뜻을 입력하세요: {meaning} \\n\"))\n",
        "\n",
        "\n",
        "# 틀린 부분 복기\n",
        "# while 뒤에 q를 조건으로 하는 대신에 무한루프를 돌게 하고. 이후 if를 사용해서 q가 나오면 그만 작동할 수 있도록 하는 것이 모범적인 답안\n",
        "# 먼저 input 표시를 먼저 해주고\n",
        "# 우리가 하고 싶은 파일 쓰기 부분은 뒤쪽에 표시할 수 있음. (formating 활용, 그리고 이때 띄어쓰기 처리)"
      ],
      "metadata": {
        "id": "NpVYhP7HabI6"
      },
      "execution_count": null,
      "outputs": []
    },
    {
      "cell_type": "code",
      "source": [
        "# 단어 퀴즈 (모범답안)\n",
        "\n",
        "with open('vocabulary.txt', 'r') as f:\n",
        "    for line in f:\n",
        "        data = line.strip().split(\": \")\n",
        "        english_word, korean_word = data[0], data[1]  # 여기서부터 달랐던 부분\n",
        "\n",
        "        # 유저 입력값 받기\n",
        "        guess = input(\"{}: \".format(korean_word))\n",
        "\n",
        "        # 정답 확인하기\n",
        "        if guess == english_word:\n",
        "            print(\"맞았습니다!\\n\")\n",
        "        else:\n",
        "            print(\"아쉽습니다. 정답은 {}입니다.\\n\".format(english_word))"
      ],
      "metadata": {
        "id": "mzNJ1tpNiMDf"
      },
      "execution_count": null,
      "outputs": []
    },
    {
      "cell_type": "code",
      "source": [
        "# 단어 퀴즈 (나의 답안)\n",
        "\n",
        "with open('vocabulary.txt', 'r') as f:  # 파일 읽기\n",
        "    for line in f:\n",
        "        data = line.strip().split(\": \")  # strip과 split 후에 출력\n",
        "        korean_word = data[0]\n",
        "\n",
        "        correct = data[1]\n",
        "\n",
        "        input(korean_word)\n",
        "        if korean_word == correct:\n",
        "            print (\"맞았습니다!\")\n",
        "\n",
        "        elif korean_word != correct: \\\n",
        "            print(f\"아쉽습니다. 정답은 {correct}입니다.\")"
      ],
      "metadata": {
        "id": "7uiJuy0aevzI"
      },
      "execution_count": null,
      "outputs": []
    },
    {
      "cell_type": "code",
      "source": [
        "# 고급 단어장 - 예제\n",
        "\n",
        "import random\n",
        "\n",
        "#사전 만들기\n",
        "with open('vocabulary.txt', 'r') as f:\n",
        "    for line in f:\n",
        "        data = line.strip().split(\": \")\n",
        "        english_word, korean_word = data[0], data[1] #여기까지는 동일\n",
        "        vocab[english_word] = korean_word #사전에 단어와 뜻을 정리 (위와 다름)\n",
        "        # korean_word가 key(english_word)에 따른 value가 되는 것\n",
        "\n",
        " # 목록 가져오기 (위와 다르게 추가된 항목)\n",
        "keys = list(vocab.keys()) # keys라는 변수에 영어단어 목록을 저장\n",
        "\n",
        " # 문제 내기\n",
        "while True: # 무한반복\n",
        "    # 랜덤한 문제 받아 오기\n",
        "    index = random.randint(0, len(keys) - 1) # 0과 마지막 키 사이에 있는 것을 리턴\n",
        "    english_word = keys[index]  # 그 인덱스를 활용해서 vocab.keys() 리스트에서 단어를 받는다.\n",
        "    korean_word = vocab[english_word]\n",
        "\n",
        "        # 유저 입력값 받기\n",
        "        guess = input(\"{}: \".format(korean_word))\n",
        "\n",
        "        #프로그램 끝내기 (위와 다르게 추가된 항목)\n",
        "         if guess == 'q':\n",
        "            break\n",
        "        # 정답 확인하기\n",
        "        if guess == english_word:\n",
        "            print(\"맞았습니다!\\n\")\n",
        "        else:\n",
        "            print(\"아쉽습니다. 정답은 {}입니다.\\n\".format(english_word))"
      ],
      "metadata": {
        "id": "rmJyW_L1lkEw"
      },
      "execution_count": null,
      "outputs": []
    }
  ],
  "metadata": {
    "colab": {
      "provenance": [],
      "authorship_tag": "ABX9TyNOL4+tCY4MdOF6ztnndYV5",
      "include_colab_link": true
    },
    "kernelspec": {
      "display_name": "Python 3",
      "name": "python3"
    },
    "language_info": {
      "name": "python"
    }
  },
  "nbformat": 4,
  "nbformat_minor": 0
}