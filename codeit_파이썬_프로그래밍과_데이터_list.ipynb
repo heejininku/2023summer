{
  "nbformat": 4,
  "nbformat_minor": 0,
  "metadata": {
    "colab": {
      "provenance": [],
      "authorship_tag": "ABX9TyMIqTnWgSkg3VTXNjX3vkN0",
      "include_colab_link": true
    },
    "kernelspec": {
      "name": "python3",
      "display_name": "Python 3"
    },
    "language_info": {
      "name": "python"
    }
  },
  "cells": [
    {
      "cell_type": "markdown",
      "metadata": {
        "id": "view-in-github",
        "colab_type": "text"
      },
      "source": [
        "<a href=\"https://colab.research.google.com/github/heejininku/2023summer/blob/main/codeit_%ED%8C%8C%EC%9D%B4%EC%8D%AC_%ED%94%84%EB%A1%9C%EA%B7%B8%EB%9E%98%EB%B0%8D%EA%B3%BC_%EB%8D%B0%EC%9D%B4%ED%84%B0_list.ipynb\" target=\"_parent\"><img src=\"https://colab.research.google.com/assets/colab-badge.svg\" alt=\"Open In Colab\"/></a>"
      ]
    },
    {
      "cell_type": "markdown",
      "source": [
        "**list (리스트)**"
      ],
      "metadata": {
        "id": "-znrO_hotevN"
      }
    },
    {
      "cell_type": "code",
      "execution_count": null,
      "metadata": {
        "colab": {
          "base_uri": "https://localhost:8080/"
        },
        "id": "c62JrnCfsen0",
        "outputId": "a5210597-56ab-4bd7-fcfc-476d831fb881"
      },
      "outputs": [
        {
          "output_type": "stream",
          "name": "stdout",
          "text": [
            "윤수\n",
            "10\n"
          ]
        }
      ],
      "source": [
        "# 리스트 (list)\n",
        "numbers = [2,3,5,7,11,13]\n",
        "names = [\"윤수\",\"혜린\", \"태호\", \"영훈\"]\n",
        "\n",
        "# 인덱싱 (indexing)\n",
        "print (names[0])\n",
        "print (numbers[1]+numbers[3]) # 파이썬은 0부터 시작한다는 점 주의!"
      ]
    },
    {
      "cell_type": "code",
      "source": [
        "num_1 = numbers[1] # 이런식으로 따로 이름을 붙인 다음에 더해주는 것도 가능\n",
        "num_3 = numbers[3]\n",
        "print (num_1 + num_3)\n",
        "\n",
        "print (numbers[-1]) # -1은 가장 뒤의 것을 의미함\n",
        "print (numbers[-2])"
      ],
      "metadata": {
        "colab": {
          "base_uri": "https://localhost:8080/"
        },
        "id": "Xr0aGHFgtNNE",
        "outputId": "70fff0f6-3d25-4c36-e434-35dd0ae31951"
      },
      "execution_count": null,
      "outputs": [
        {
          "output_type": "stream",
          "name": "stdout",
          "text": [
            "10\n",
            "13\n",
            "11\n"
          ]
        }
      ]
    },
    {
      "cell_type": "code",
      "source": [
        "#리스트 슬라이싱\n",
        "print(numbers[0:4]) # 0~3번째 숫자까지 (4번째는 포함하지 않음)\n",
        "print(numbers[:3]) # 0~2번째 숫자까지\n",
        "print(numbers[2:]) #2번(3번째 숫자)부터 끝까지"
      ],
      "metadata": {
        "colab": {
          "base_uri": "https://localhost:8080/"
        },
        "id": "sN-uGT10tPUu",
        "outputId": "2af985d5-38ab-4ef2-a7a1-50c37e9529fd"
      },
      "execution_count": null,
      "outputs": [
        {
          "output_type": "stream",
          "name": "stdout",
          "text": [
            "[2, 3, 5, 7]\n",
            "[2, 3, 5]\n",
            "[5, 7, 11, 13]\n"
          ]
        }
      ]
    },
    {
      "cell_type": "code",
      "source": [
        "new_list = numbers[:3] #[2,3,5]를 의미하는 새로운 list가 만들어짐.\n",
        "print(new_list[2])"
      ],
      "metadata": {
        "colab": {
          "base_uri": "https://localhost:8080/"
        },
        "id": "gwNNuKKzuXfK",
        "outputId": "a4789971-5a1c-454e-9973-0e34196248c8"
      },
      "execution_count": null,
      "outputs": [
        {
          "output_type": "stream",
          "name": "stdout",
          "text": [
            "5\n"
          ]
        }
      ]
    },
    {
      "cell_type": "code",
      "source": [
        "numbers[0] =7\n",
        "# 정수 7를 0번째 index에 할당하는 것\n",
        "print(numbers)"
      ],
      "metadata": {
        "colab": {
          "base_uri": "https://localhost:8080/"
        },
        "id": "qhDDv7LDumyl",
        "outputId": "95be1c09-9dd7-4472-b091-fcfa086470c5"
      },
      "execution_count": null,
      "outputs": [
        {
          "output_type": "stream",
          "name": "stdout",
          "text": [
            "[7, 3, 5, 7, 11, 13]\n"
          ]
        }
      ]
    },
    {
      "cell_type": "code",
      "source": [
        "numbers[1] = numbers[0] + numbers[2] #7과 5를 더해서 1번째 index에 넣기\n",
        "print (numbers)"
      ],
      "metadata": {
        "colab": {
          "base_uri": "https://localhost:8080/"
        },
        "id": "ktF4WOZ7vRpA",
        "outputId": "6fb20971-b5ce-48df-c2c2-9b69da6e65ad"
      },
      "execution_count": null,
      "outputs": [
        {
          "output_type": "stream",
          "name": "stdout",
          "text": [
            "[7, 12, 5, 7, 11, 13]\n"
          ]
        }
      ]
    },
    {
      "cell_type": "markdown",
      "source": [
        "**리스트 함수**"
      ],
      "metadata": {
        "id": "xWwn9yThvpwy"
      }
    },
    {
      "cell_type": "code",
      "source": [
        "numbers = []\n",
        "numbers. append (5) # numbers. append()는 리스트에 새로운 숫자를 넣어주는 것\n",
        "numbers. append (8)\n",
        "print(numbers)"
      ],
      "metadata": {
        "colab": {
          "base_uri": "https://localhost:8080/"
        },
        "id": "olItx92OvtE9",
        "outputId": "c865394f-461f-446c-8773-a0eff7900241"
      },
      "execution_count": null,
      "outputs": [
        {
          "output_type": "stream",
          "name": "stdout",
          "text": [
            "[5, 8]\n"
          ]
        }
      ]
    },
    {
      "cell_type": "code",
      "source": [
        "print(len(numbers)) # len ()은 리스트의 길이를 말하는 것"
      ],
      "metadata": {
        "colab": {
          "base_uri": "https://localhost:8080/"
        },
        "id": "TLSU_1Hwv54O",
        "outputId": "b3bd3b3f-cb04-4cb7-e256-750a747aac0d"
      },
      "execution_count": null,
      "outputs": [
        {
          "output_type": "stream",
          "name": "stdout",
          "text": [
            "2\n"
          ]
        }
      ]
    },
    {
      "cell_type": "code",
      "source": [
        "numbers = [2,3,5,7,11,13,17,19]\n",
        "del numbers [3] #3번 index인 7를 제거함 (원래 있던 것들은 앞으로 한칸씩 올 것)\n",
        "# del(리스트이름)[몇번째 index] 는 해당 index를 지워달라는 의미임.\n",
        "print (numbers)"
      ],
      "metadata": {
        "colab": {
          "base_uri": "https://localhost:8080/"
        },
        "id": "I4DsWmY1wIWP",
        "outputId": "3a9255bc-b59c-4b1a-8505-79859305962c"
      },
      "execution_count": null,
      "outputs": [
        {
          "output_type": "stream",
          "name": "stdout",
          "text": [
            "[2, 3, 5, 11, 13, 17, 19]\n"
          ]
        }
      ]
    },
    {
      "cell_type": "code",
      "source": [
        "numbers = [2,3,5,7,11,13,17,19]\n",
        "numbers. insert (4,37)\n",
        "print(numbers)\n",
        "# 4번째 index에 37를 넣으라는 의미 (원래 있던 것들은 뒤로 밀려날 것)\n",
        "# numbers. insert는 무조건 오른쪽 끝에 추가를 하는 numbers. append 와 달리 특정한 index 순서를 집어서 바꿀 수 있음.\n",
        "\n",
        "# numbers. insert: 삽입 연산\n",
        "# numbers. append: 추가 연산"
      ],
      "metadata": {
        "colab": {
          "base_uri": "https://localhost:8080/"
        },
        "id": "kDUqqk-xwzgN",
        "outputId": "8ea8f363-27a5-4770-eac6-33bdfc07e1dc"
      },
      "execution_count": null,
      "outputs": [
        {
          "output_type": "stream",
          "name": "stdout",
          "text": [
            "[2, 3, 5, 7, 37, 11, 13, 17, 19]\n"
          ]
        }
      ]
    },
    {
      "cell_type": "markdown",
      "source": [
        "**리스트 정렬**"
      ],
      "metadata": {
        "id": "iRxq0wmQxtCd"
      }
    },
    {
      "cell_type": "markdown",
      "source": [
        "방법 1 sorted\n",
        "\n",
        ": 기존 리스트는 건드리지 않고, 정렬된 새로운 리스트를 리턴"
      ],
      "metadata": {
        "id": "lWf8D7m6y6aQ"
      }
    },
    {
      "cell_type": "code",
      "source": [
        "numbers = [19, 13, 2, 5, 3, 11, 7, 17]\n",
        "\n",
        "# 크기가 작은 순서대로 정렬하고 싶다\n",
        "new_list = sorted(numbers)\n",
        "print(new_list)\n",
        "# 크기가 큰 순서대로 정렬하고 싶다면\n",
        "new_list = sorted(numbers, reverse = True) # 반대로 정렬하라.\n",
        "print(new_list)\n",
        "\n",
        "# 다만 이후에 다시 print (numbers)하면, 다시 원래 리스트 등장\n",
        "# sorted는 기존의 리스트를 건드리지 않는 선에서 진행"
      ],
      "metadata": {
        "colab": {
          "base_uri": "https://localhost:8080/"
        },
        "id": "LZMbYx8DxxMF",
        "outputId": "93820255-fd57-4276-f8d4-39e157c5d51a"
      },
      "execution_count": null,
      "outputs": [
        {
          "output_type": "stream",
          "name": "stdout",
          "text": [
            "[2, 3, 5, 7, 11, 13, 17, 19]\n",
            "[19, 17, 13, 11, 7, 5, 3, 2]\n"
          ]
        }
      ]
    },
    {
      "cell_type": "markdown",
      "source": [
        "방법 2 sort\n",
        "\n",
        ": 아무것도 리턴하지 않고, 기존 리스트를 정렬"
      ],
      "metadata": {
        "id": "-qLGtGh9y9bb"
      }
    },
    {
      "cell_type": "code",
      "source": [
        "numbers = [19, 13, 2, 5, 3, 11, 7, 17]\n",
        "\n",
        "print (numbers.sort()) #이번에는 새로운 리스트가 나오지를 않고 None이 나옴\n",
        "#sort는 return하지 않고 정렬만 함\n",
        "\n",
        "numbers.sort()\n",
        "print (numbers) # 이것을 해야 보임\n",
        "\n",
        "#만약 반대로 하고 싶다면\n",
        "numbers. sort (reverse= True)\n",
        "print (numbers)"
      ],
      "metadata": {
        "colab": {
          "base_uri": "https://localhost:8080/"
        },
        "id": "xbgKDzthy4YS",
        "outputId": "27d98c5b-1d6f-4783-fbf3-b1219dcc88b9"
      },
      "execution_count": null,
      "outputs": [
        {
          "output_type": "stream",
          "name": "stdout",
          "text": [
            "None\n",
            "[2, 3, 5, 7, 11, 13, 17, 19]\n",
            "[19, 17, 13, 11, 7, 5, 3, 2]\n"
          ]
        }
      ]
    },
    {
      "cell_type": "code",
      "source": [
        "#예제\n",
        "#greetings 리스트의 원소를 모두 출력하는 프로그램을 작성해 보세요. while문과 리스트의 개념을 활용하시면 됩니다\n",
        "greetings = [\"안녕\", \"니하오\", \"곤니찌와\", \"올라\", \"싸와디캅\", \"헬로\", \"봉주르\"]\n",
        "\n",
        "i = 0\n",
        "while i <= 6:\n",
        "   print (greetings[i])\n",
        "   i += 1"
      ],
      "metadata": {
        "colab": {
          "base_uri": "https://localhost:8080/"
        },
        "id": "1eGQ2T-m0qKj",
        "outputId": "0c69dd05-ce51-4bed-9f1f-1af49bf2c9bd"
      },
      "execution_count": null,
      "outputs": [
        {
          "output_type": "stream",
          "name": "stdout",
          "text": [
            "안녕\n",
            "니하오\n",
            "곤니찌와\n",
            "올라\n",
            "싸와디캅\n",
            "헬로\n",
            "봉주르\n"
          ]
        }
      ]
    },
    {
      "cell_type": "code",
      "source": [
        "# 화씨 온도에서 섭씨 온도로 바꿔 주는 함수\n",
        "def fahrenheit_to_celsius(fahrenheit):\n",
        "    return (fahrenheit - 32) *5 / 9\n",
        "\n",
        "\n",
        "temperature_list = [40, 15, 32, 64, -4, 11]\n",
        "print(\"화씨 온도 리스트: {}\".format(temperature_list))  # 화씨 온도 출력\n",
        "# 리스트의 값들을 화씨에서 섭씨로 변환하는 코드를 입력하세요\n",
        "i = 0\n",
        "while i <= len(temperature_list) - 1:\n",
        "    temperature_list[i] = round(fahrenheit_to_celsius(temperature_list[i]), 1)\n",
        "    i += 1\n",
        "print(\"섭씨 온도 리스트: {}\".format(temperature_list)) # 섭씨 온도 출력"
      ],
      "metadata": {
        "id": "nXfpw_rE6Dj4",
        "colab": {
          "base_uri": "https://localhost:8080/"
        },
        "outputId": "61caceb9-84f6-4175-a018-dad0a1f40921"
      },
      "execution_count": null,
      "outputs": [
        {
          "output_type": "stream",
          "name": "stdout",
          "text": [
            "화씨 온도 리스트: [40, 15, 32, 64, -4, 11]\n",
            "섭씨 온도 리스트: [4.4, -9.4, 0.0, 17.8, -20.0, -11.7]\n"
          ]
        }
      ]
    },
    {
      "cell_type": "code",
      "source": [
        "#예제 : 환전 서비스\n",
        "# 원화(￦)에서 달러($)로 변환하는 함수\n",
        "def krw_to_usd(krw):\n",
        "    return 1/ 1000 * krw\n",
        "\n",
        "\n",
        "# 달러($)에서 엔화(￥)로 변환하는 함수\n",
        "def usd_to_jpy(usd):\n",
        "    return 1000/8 * usd\n",
        "\n",
        "\n",
        "# 원화(￦)으로 각각 얼마인가요?\n",
        "prices = [34000, 13000, 5000, 21000, 1000, 2000, 8000, 3000]\n",
        "print(\"한국 화폐: \" + str(prices))\n",
        "\n",
        "# prices를 원화(￦)에서 달러($)로 변환하기\n",
        "i = 0\n",
        "while i < len(prices) :\n",
        "    prices[i] = round (krw_to_usd(prices[i]), 1)\n",
        "    i += 1\n",
        "# 달러($)로 각각 얼마인가요?\n",
        "print(\"미국 화폐: \" + str(prices))\n",
        "\n",
        "# prices를 달러($)에서 엔화(￥)으로 변환하기\n",
        "i = 0\n",
        "while i < len(prices) :\n",
        "    prices [i] = round (usd_to_jpy(prices[i]), 1)\n",
        "    i += 1\n",
        "\n",
        "# 엔화(￥)으로 각각 얼마인가요?\n",
        "print(\"일본 화폐: \" + str(prices))"
      ],
      "metadata": {
        "id": "x6cbv-llhH_y"
      },
      "execution_count": null,
      "outputs": []
    },
    {
      "cell_type": "code",
      "source": [
        "#리스트 함수 활용하기\n",
        "\n",
        "# 빈 리스트 만들기\n",
        "numbers = [ ]\n",
        "print(numbers)\n",
        "\n",
        "# numbers에 값들 추가\n",
        "numbers.append (1)\n",
        "numbers.append (7)\n",
        "numbers.append (3)\n",
        "numbers.append (6)\n",
        "numbers.append (5)\n",
        "numbers.append (2)\n",
        "numbers.append (13)\n",
        "numbers.append (14)\n",
        "print(numbers)\n",
        "\n",
        "# numbers에서 홀수 제거\n",
        "i = 0\n",
        "while i < len(numbers) :\n",
        "    if numbers[i] % 2 == 1:\n",
        "        del numbers[i]\n",
        "    else:\n",
        "      i += 1\n",
        "print(numbers)\n",
        "\n",
        "# numbers의 인덱스 0 자리에 20이라는 값 삽입\n",
        "numbers.insert (0, 20)\n",
        "print(numbers)\n",
        "\n",
        "# numbers를 정렬해서 출력\n",
        "numbers.sort()\n",
        "print(numbers)"
      ],
      "metadata": {
        "colab": {
          "base_uri": "https://localhost:8080/"
        },
        "id": "bEaxJZ0AoKvt",
        "outputId": "d61e462a-3ad6-4f8c-e591-87390ad10606"
      },
      "execution_count": null,
      "outputs": [
        {
          "output_type": "stream",
          "name": "stdout",
          "text": [
            "[]\n",
            "[1, 7, 3, 6, 5, 2, 13, 14]\n",
            "[6, 2, 14]\n",
            "[20, 6, 2, 14]\n",
            "[2, 6, 14, 20]\n"
          ]
        }
      ]
    },
    {
      "cell_type": "markdown",
      "source": [
        "**리스트에서 값의 존재 확인하기**\n"
      ],
      "metadata": {
        "id": "eXuXDeGBoa65"
      }
    },
    {
      "cell_type": "code",
      "source": [
        "# 어떤 값이 리스트에 있는지 확인하는 함수를 써보겠습니다.\n",
        "# value가 some_list의 요소인지 확인\n",
        "def in_list(some_list, value):\n",
        "    i = 0\n",
        "    while i < len(some_list):\n",
        "        # some_list에서 value를 찾으면 True를 리턴\n",
        "        if some_list[i] == value:\n",
        "            return True\n",
        "        i = i + 1\n",
        "\n",
        "    # 만약 some_list에서 value를 발견하지 못했으면 False를 리턴\n",
        "    return False\n",
        "\n",
        "# 테스트\n",
        "primes = [2, 3, 5, 7, 11, 13, 17, 19, 23]\n",
        "print(in_list(primes, 7))\n",
        "print(in_list(primes, 12))"
      ],
      "metadata": {
        "colab": {
          "base_uri": "https://localhost:8080/"
        },
        "id": "26atqPRkoi1m",
        "outputId": "947110fd-dd40-4d30-e174-225c0a2d8249"
      },
      "execution_count": null,
      "outputs": [
        {
          "output_type": "stream",
          "name": "stdout",
          "text": [
            "True\n",
            "False\n"
          ]
        }
      ]
    },
    {
      "cell_type": "code",
      "source": [
        "# 쓰는데 아주 어렵지는 않습니다. 하지만 리스트에 값의 존재를 확인하는 것은 너무 자주 있는 일이라서 파이썬에 이미 이 기능이 내장되어 있습니다.\n",
        "# in이라는 키워드를 쓰면 됩니다.\n",
        "primes = [2, 3, 5, 7, 11, 13, 17, 19, 23]\n",
        "print(7 in primes)\n",
        "print(12 in primes)"
      ],
      "metadata": {
        "colab": {
          "base_uri": "https://localhost:8080/"
        },
        "id": "H7IB458VpFp9",
        "outputId": "d3334773-62a9-4dde-fe6f-4854a7f6c2f0"
      },
      "execution_count": null,
      "outputs": [
        {
          "output_type": "stream",
          "name": "stdout",
          "text": [
            "True\n",
            "False\n"
          ]
        }
      ]
    },
    {
      "cell_type": "code",
      "source": [
        "# 거꾸로 값이 없는지 확인하려면 in 앞에 not을 붙이면 됩니다.\n",
        "\n",
        "primes = [2, 3, 5, 7, 11, 13, 17, 19, 23]\n",
        "print(7 not in primes)\n",
        "print(12 not in primes)"
      ],
      "metadata": {
        "colab": {
          "base_uri": "https://localhost:8080/"
        },
        "id": "-4C23SrXpQgg",
        "outputId": "dcc79cc4-8b18-4fd3-e5e4-ea4f4bf521d4"
      },
      "execution_count": null,
      "outputs": [
        {
          "output_type": "stream",
          "name": "stdout",
          "text": [
            "False\n",
            "True\n"
          ]
        }
      ]
    },
    {
      "cell_type": "markdown",
      "source": [
        "**리스트 안의 리스트 (Nested List)**\n",
        "\n",
        "리스트 안에는 또 다른 리스트가 있을 수 있습니다. 이를 영어로 nested list라고 부릅니다.\n",
        "\n"
      ],
      "metadata": {
        "id": "Pm-tHNBFpUny"
      }
    },
    {
      "cell_type": "code",
      "source": [
        "# 세 번의 시험을 보는 수업\n",
        "grades = [[62, 75, 77], [78, 81, 86], [85, 91, 89]]\n",
        "\n",
        "# 첫 번째 학생의 성적\n",
        "print(grades[0])\n",
        "\n",
        "# 세 번째 학생의 성적\n",
        "print(grades[2])\n",
        "\n",
        "# 첫 번째 학생의 첫 번째 시험 성적\n",
        "print(grades[0][0])\n",
        "\n",
        "# 세 번째 학생의 두 번째 시험 성적\n",
        "print(grades[2][1])\n",
        "\n",
        "# 첫 번째 시험의 평균\n",
        "print((grades[0][0] + grades[1][0] + grades[2][0]) / 3)"
      ],
      "metadata": {
        "colab": {
          "base_uri": "https://localhost:8080/"
        },
        "id": "8Y-K_vLCpacd",
        "outputId": "cf8fb8b8-2d58-4a5e-bdbc-7cab20309bef"
      },
      "execution_count": null,
      "outputs": [
        {
          "output_type": "stream",
          "name": "stdout",
          "text": [
            "[62, 75, 77]\n",
            "[85, 91, 89]\n",
            "62\n",
            "91\n",
            "75.0\n"
          ]
        }
      ]
    },
    {
      "cell_type": "markdown",
      "source": [
        "**sort 메소드**"
      ],
      "metadata": {
        "id": "czJNUZG5p7ZB"
      }
    },
    {
      "cell_type": "code",
      "source": [
        "#some_list.sort()는 새로운 리스트를 생성하지 않고 some_list를 정렬된 상태로 바꿔줍니다.\n",
        "\n",
        "numbers = [5, 3, 7, 1]\n",
        "numbers.sort()\n",
        "print(numbers)"
      ],
      "metadata": {
        "colab": {
          "base_uri": "https://localhost:8080/"
        },
        "id": "iXMD_z6hpvub",
        "outputId": "10e91de0-7261-494e-c828-192d0b12b787"
      },
      "execution_count": null,
      "outputs": [
        {
          "output_type": "stream",
          "name": "stdout",
          "text": [
            "[1, 3, 5, 7]\n"
          ]
        }
      ]
    },
    {
      "cell_type": "markdown",
      "source": [
        "**reverse 메소드**"
      ],
      "metadata": {
        "id": "QX1m_wJDp-Te"
      }
    },
    {
      "cell_type": "code",
      "source": [
        "# some_list.reverse()는 some_list의 원소들을 뒤집어진 순서로 배치합니다.\n",
        "\n",
        "numbers = [5, 3, 7, 1]\n",
        "numbers.reverse()\n",
        "print(numbers)"
      ],
      "metadata": {
        "colab": {
          "base_uri": "https://localhost:8080/"
        },
        "id": "DdNPMvfzp2qa",
        "outputId": "047bcc26-8835-4bfe-9c5d-3728081e8965"
      },
      "execution_count": null,
      "outputs": [
        {
          "output_type": "stream",
          "name": "stdout",
          "text": [
            "[1, 7, 3, 5]\n"
          ]
        }
      ]
    },
    {
      "cell_type": "markdown",
      "source": [
        "**index 메소드**"
      ],
      "metadata": {
        "id": "DuTJV_DyqGng"
      }
    },
    {
      "cell_type": "code",
      "source": [
        "# some_list.index(x)는some_list에서 x의 값을 갖고 있는 원소의 인덱스를 리턴해줍니다.\n",
        "\n",
        "members = [\"영훈\", \"윤수\", \"태호\", \"혜린\"]\n",
        "print(members.index(\"윤수\"))\n",
        "print(members.index(\"태호\"))"
      ],
      "metadata": {
        "colab": {
          "base_uri": "https://localhost:8080/"
        },
        "id": "UawPwYxVqEkR",
        "outputId": "ef5144fe-e216-401e-eaa6-f58b85947bec"
      },
      "execution_count": null,
      "outputs": [
        {
          "output_type": "stream",
          "name": "stdout",
          "text": [
            "1\n",
            "2\n"
          ]
        }
      ]
    },
    {
      "cell_type": "markdown",
      "source": [
        "**remove 메소드**"
      ],
      "metadata": {
        "id": "7Y49FoEmqSPz"
      }
    },
    {
      "cell_type": "code",
      "source": [
        "# some_list.remove(x)는some_list에서 첫 번째로 x의 값을 갖고 있는 원소를 삭제해줍니다.\n",
        "\n",
        "fruits = [\"딸기\", \"당근\", \"파인애플\", \"수박\", \"참외\", \"메론\"]\n",
        "fruits.remove(\"파인애플\")\n",
        "print(fruits)"
      ],
      "metadata": {
        "colab": {
          "base_uri": "https://localhost:8080/"
        },
        "id": "j6mv_rk9qMvt",
        "outputId": "d40cdaae-c9dc-494a-cec2-7ab9c1ceb9e0"
      },
      "execution_count": null,
      "outputs": [
        {
          "output_type": "stream",
          "name": "stdout",
          "text": [
            "['딸기', '당근', '수박', '참외', '메론']\n"
          ]
        }
      ]
    }
  ]
}